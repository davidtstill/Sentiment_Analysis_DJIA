{
 "cells": [
  {
   "cell_type": "markdown",
   "metadata": {
    "colab_type": "text",
    "id": "NwWpgiwGAfcp"
   },
   "source": [
    "# Data Preprocessing Section\n",
    "\n"
   ]
  },
  {
   "cell_type": "code",
   "execution_count": null,
   "metadata": {
    "colab": {},
    "colab_type": "code",
    "id": "S5ScJpNQBukT"
   },
   "outputs": [],
   "source": [
    "# Imports\n",
    "import pandas as pd\n",
    "import numpy as np"
   ]
  },
  {
   "cell_type": "code",
   "execution_count": null,
   "metadata": {
    "colab": {
     "base_uri": "https://localhost:8080/",
     "height": 72,
     "resources": {
      "http://localhost:8080/nbextensions/google.colab/files.js": {
       "data": "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",
       "headers": [
        [
         "content-type",
         "application/javascript"
        ]
       ],
       "ok": true,
       "status": 200,
       "status_text": ""
      }
     }
    },
    "colab_type": "code",
    "id": "SERA_v3hApFY",
    "outputId": "356eb353-c71c-4707-edef-5c4c702ea190"
   },
   "outputs": [
    {
     "data": {
      "text/html": [
       "\n",
       "     <input type=\"file\" id=\"files-24824513-67b7-403b-a5d5-be64e245df06\" name=\"files[]\" multiple disabled\n",
       "        style=\"border:none\" />\n",
       "     <output id=\"result-24824513-67b7-403b-a5d5-be64e245df06\">\n",
       "      Upload widget is only available when the cell has been executed in the\n",
       "      current browser session. Please rerun this cell to enable.\n",
       "      </output>\n",
       "      <script src=\"/nbextensions/google.colab/files.js\"></script> "
      ],
      "text/plain": [
       "<IPython.core.display.HTML object>"
      ]
     },
     "metadata": {
      "tags": []
     },
     "output_type": "display_data"
    },
    {
     "name": "stdout",
     "output_type": "stream",
     "text": [
      "Saving Data.csv to Data.csv\n"
     ]
    }
   ],
   "source": [
    "from google.colab import files\n",
    "uploaded = files.upload()"
   ]
  },
  {
   "cell_type": "markdown",
   "metadata": {
    "colab_type": "text",
    "id": "LCNHAqGHKDUF"
   },
   "source": [
    "### Load in Data from CSV file"
   ]
  },
  {
   "cell_type": "code",
   "execution_count": null,
   "metadata": {
    "colab": {},
    "colab_type": "code",
    "id": "esDHfbvyBpPQ"
   },
   "outputs": [],
   "source": [
    "df = pd.read_csv('Data.csv', encoding='ISO-8859-1', parse_dates=True)"
   ]
  },
  {
   "cell_type": "code",
   "execution_count": null,
   "metadata": {
    "colab": {
     "base_uri": "https://localhost:8080/",
     "height": 768
    },
    "colab_type": "code",
    "id": "PgGfFgq0BPkr",
    "outputId": "a707518f-b55d-4c6d-d322-1bf086439af3"
   },
   "outputs": [
    {
     "data": {
      "text/html": [
       "<div>\n",
       "<style scoped>\n",
       "    .dataframe tbody tr th:only-of-type {\n",
       "        vertical-align: middle;\n",
       "    }\n",
       "\n",
       "    .dataframe tbody tr th {\n",
       "        vertical-align: top;\n",
       "    }\n",
       "\n",
       "    .dataframe thead th {\n",
       "        text-align: right;\n",
       "    }\n",
       "</style>\n",
       "<table border=\"1\" class=\"dataframe\">\n",
       "  <thead>\n",
       "    <tr style=\"text-align: right;\">\n",
       "      <th></th>\n",
       "      <th>Date</th>\n",
       "      <th>Label</th>\n",
       "      <th>Top1</th>\n",
       "      <th>Top2</th>\n",
       "      <th>Top3</th>\n",
       "      <th>Top4</th>\n",
       "      <th>Top5</th>\n",
       "      <th>Top6</th>\n",
       "      <th>Top7</th>\n",
       "      <th>Top8</th>\n",
       "      <th>Top9</th>\n",
       "      <th>Top10</th>\n",
       "      <th>Top11</th>\n",
       "      <th>Top12</th>\n",
       "      <th>Top13</th>\n",
       "      <th>Top14</th>\n",
       "      <th>Top15</th>\n",
       "      <th>Top16</th>\n",
       "      <th>Top17</th>\n",
       "      <th>Top18</th>\n",
       "      <th>Top19</th>\n",
       "      <th>Top20</th>\n",
       "      <th>Top21</th>\n",
       "      <th>Top22</th>\n",
       "      <th>Top23</th>\n",
       "      <th>Top24</th>\n",
       "      <th>Top25</th>\n",
       "    </tr>\n",
       "  </thead>\n",
       "  <tbody>\n",
       "    <tr>\n",
       "      <th>0</th>\n",
       "      <td>2000-01-03</td>\n",
       "      <td>0</td>\n",
       "      <td>A 'hindrance to operations': extracts from the...</td>\n",
       "      <td>Scorecard</td>\n",
       "      <td>Hughes' instant hit buoys Blues</td>\n",
       "      <td>Jack gets his skates on at ice-cold Alex</td>\n",
       "      <td>Chaos as Maracana builds up for United</td>\n",
       "      <td>Depleted Leicester prevail as Elliott spoils E...</td>\n",
       "      <td>Hungry Spurs sense rich pickings</td>\n",
       "      <td>Gunners so wide of an easy target</td>\n",
       "      <td>Derby raise a glass to Strupar's debut double</td>\n",
       "      <td>Southgate strikes, Leeds pay the penalty</td>\n",
       "      <td>Hammers hand Robson a youthful lesson</td>\n",
       "      <td>Saints party like it's 1999</td>\n",
       "      <td>Wear wolves have turned into lambs</td>\n",
       "      <td>Stump mike catches testy Gough's taunt</td>\n",
       "      <td>Langer escapes to hit 167</td>\n",
       "      <td>Flintoff injury piles on woe for England</td>\n",
       "      <td>Hunters threaten Jospin with new battle of the...</td>\n",
       "      <td>Kohl's successor drawn into scandal</td>\n",
       "      <td>The difference between men and women</td>\n",
       "      <td>Sara Denver, nurse turned solicitor</td>\n",
       "      <td>Diana's landmine crusade put Tories in a panic</td>\n",
       "      <td>Yeltsin's resignation caught opposition flat-f...</td>\n",
       "      <td>Russian roulette</td>\n",
       "      <td>Sold out</td>\n",
       "      <td>Recovering a title</td>\n",
       "    </tr>\n",
       "    <tr>\n",
       "      <th>1</th>\n",
       "      <td>2000-01-04</td>\n",
       "      <td>0</td>\n",
       "      <td>Scorecard</td>\n",
       "      <td>The best lake scene</td>\n",
       "      <td>Leader: German sleaze inquiry</td>\n",
       "      <td>Cheerio, boyo</td>\n",
       "      <td>The main recommendations</td>\n",
       "      <td>Has Cubie killed fees?</td>\n",
       "      <td>Has Cubie killed fees?</td>\n",
       "      <td>Has Cubie killed fees?</td>\n",
       "      <td>Hopkins 'furious' at Foster's lack of Hannibal...</td>\n",
       "      <td>Has Cubie killed fees?</td>\n",
       "      <td>A tale of two tails</td>\n",
       "      <td>I say what I like and I like what I say</td>\n",
       "      <td>Elbows, Eyes and Nipples</td>\n",
       "      <td>Task force to assess risk of asteroid collision</td>\n",
       "      <td>How I found myself at last</td>\n",
       "      <td>On the critical list</td>\n",
       "      <td>The timing of their lives</td>\n",
       "      <td>Dear doctor</td>\n",
       "      <td>Irish court halts IRA man's extradition to Nor...</td>\n",
       "      <td>Burundi peace initiative fades after rebels re...</td>\n",
       "      <td>PE points the way forward to the ECB</td>\n",
       "      <td>Campaigners keep up pressure on Nazi war crime...</td>\n",
       "      <td>Jane Ratcliffe</td>\n",
       "      <td>Yet more things you wouldn't know without the ...</td>\n",
       "      <td>Millennium bug fails to bite</td>\n",
       "    </tr>\n",
       "    <tr>\n",
       "      <th>2</th>\n",
       "      <td>2000-01-05</td>\n",
       "      <td>0</td>\n",
       "      <td>Coventry caught on counter by Flo</td>\n",
       "      <td>United's rivals on the road to Rio</td>\n",
       "      <td>Thatcher issues defence before trial by video</td>\n",
       "      <td>Police help Smith lay down the law at Everton</td>\n",
       "      <td>Tale of Trautmann bears two more retellings</td>\n",
       "      <td>England on the rack</td>\n",
       "      <td>Pakistan retaliate with call for video of Walsh</td>\n",
       "      <td>Cullinan continues his Cape monopoly</td>\n",
       "      <td>McGrath puts India out of their misery</td>\n",
       "      <td>Blair Witch bandwagon rolls on</td>\n",
       "      <td>Pele turns up heat on Ferguson</td>\n",
       "      <td>Party divided over Kohl slush fund scandal</td>\n",
       "      <td>Manchester United (England)</td>\n",
       "      <td>Women in record South Pole walk</td>\n",
       "      <td>Vasco da Gama (Brazil)</td>\n",
       "      <td>South Melbourne (Australia)</td>\n",
       "      <td>Necaxa (Mexico)</td>\n",
       "      <td>Real Madrid (Spain)</td>\n",
       "      <td>Raja Casablanca (Morocco)</td>\n",
       "      <td>Corinthians (Brazil)</td>\n",
       "      <td>Tony's pet project</td>\n",
       "      <td>Al Nassr (Saudi Arabia)</td>\n",
       "      <td>Ideal Holmes show</td>\n",
       "      <td>Pinochet leaves hospital after tests</td>\n",
       "      <td>Useful links</td>\n",
       "    </tr>\n",
       "    <tr>\n",
       "      <th>3</th>\n",
       "      <td>2000-01-06</td>\n",
       "      <td>1</td>\n",
       "      <td>Pilgrim knows how to progress</td>\n",
       "      <td>Thatcher facing ban</td>\n",
       "      <td>McIlroy calls for Irish fighting spirit</td>\n",
       "      <td>Leicester bin stadium blueprint</td>\n",
       "      <td>United braced for Mexican wave</td>\n",
       "      <td>Auntie back in fashion, even if the dress look...</td>\n",
       "      <td>Shoaib appeal goes to the top</td>\n",
       "      <td>Hussain hurt by 'shambles' but lays blame on e...</td>\n",
       "      <td>England's decade of disasters</td>\n",
       "      <td>Revenge is sweet for jubilant Cronje</td>\n",
       "      <td>Our choice, not theirs</td>\n",
       "      <td>Profile of former US Nazi Party officer Willia...</td>\n",
       "      <td>New evidence shows record of war crimes suspec...</td>\n",
       "      <td>The rise of the supernerds</td>\n",
       "      <td>Written on the body</td>\n",
       "      <td>Putin admits Yeltsin quit to give him a head s...</td>\n",
       "      <td>BBC worst hit as digital TV begins to bite</td>\n",
       "      <td>How much can you pay for...</td>\n",
       "      <td>Christmas glitches</td>\n",
       "      <td>Upending a table, Chopping a line and Scoring ...</td>\n",
       "      <td>Scientific evidence 'unreliable', defence claims</td>\n",
       "      <td>Fusco wins judicial review in extradition case</td>\n",
       "      <td>Rebels thwart Russian advance</td>\n",
       "      <td>Blair orders shake-up of failing NHS</td>\n",
       "      <td>Lessons of law's hard heart</td>\n",
       "    </tr>\n",
       "    <tr>\n",
       "      <th>4</th>\n",
       "      <td>2000-01-07</td>\n",
       "      <td>1</td>\n",
       "      <td>Hitches and Horlocks</td>\n",
       "      <td>Beckham off but United survive</td>\n",
       "      <td>Breast cancer screening</td>\n",
       "      <td>Alan Parker</td>\n",
       "      <td>Guardian readers: are you all whingers?</td>\n",
       "      <td>Hollywood Beyond</td>\n",
       "      <td>Ashes and diamonds</td>\n",
       "      <td>Whingers - a formidable minority</td>\n",
       "      <td>Alan Parker - part two</td>\n",
       "      <td>Thuggery, Toxins and Ties</td>\n",
       "      <td>Met faces fresh attack on race crime</td>\n",
       "      <td>Everton fans top racist 'league of shame'</td>\n",
       "      <td>Our breasts, ourselves</td>\n",
       "      <td>Russia's new boss has an extremely strange his...</td>\n",
       "      <td>Always and forever</td>\n",
       "      <td>Most everywhere:  UDIs</td>\n",
       "      <td>Most wanted:  Chloe lunettes</td>\n",
       "      <td>Return of the cane 'completely off the agenda'</td>\n",
       "      <td>From Sleepy Hollow to Greeneland</td>\n",
       "      <td>Blunkett outlines vision for over 11s</td>\n",
       "      <td>Embattled Dobson attacks 'play now, pay later'...</td>\n",
       "      <td>Doom and the Dome</td>\n",
       "      <td>What is the north-south divide?</td>\n",
       "      <td>Aitken released from jail</td>\n",
       "      <td>Gone aloft</td>\n",
       "    </tr>\n",
       "  </tbody>\n",
       "</table>\n",
       "</div>"
      ],
      "text/plain": [
       "         Date  ...                         Top25\n",
       "0  2000-01-03  ...            Recovering a title\n",
       "1  2000-01-04  ...  Millennium bug fails to bite\n",
       "2  2000-01-05  ...                  Useful links\n",
       "3  2000-01-06  ...   Lessons of law's hard heart\n",
       "4  2000-01-07  ...                    Gone aloft\n",
       "\n",
       "[5 rows x 27 columns]"
      ]
     },
     "execution_count": 8,
     "metadata": {
      "tags": []
     },
     "output_type": "execute_result"
    }
   ],
   "source": [
    "df.head()"
   ]
  },
  {
   "cell_type": "markdown",
   "metadata": {
    "colab_type": "text",
    "id": "bc1J0GoZC9fD"
   },
   "source": [
    "# Section 1 | Data Cleaning"
   ]
  },
  {
   "cell_type": "code",
   "execution_count": null,
   "metadata": {
    "colab": {},
    "colab_type": "code",
    "id": "hKHJNtDs0Yo8"
   },
   "outputs": [],
   "source": [
    "train = df[df['Date'] < '20150101']\n",
    "test = df[df['Date'] > '20141231']"
   ]
  },
  {
   "cell_type": "code",
   "execution_count": null,
   "metadata": {
    "colab": {},
    "colab_type": "code",
    "id": "C4j1jZe00ac7"
   },
   "outputs": [],
   "source": [
    "data=train.iloc[:,2:27]\n",
    "data.replace(\"[^a-zA-Z]\",\" \",regex=True, inplace=True)"
   ]
  },
  {
   "cell_type": "code",
   "execution_count": null,
   "metadata": {
    "colab": {
     "base_uri": "https://localhost:8080/",
     "height": 629
    },
    "colab_type": "code",
    "id": "j8_CEJyf0Ec1",
    "outputId": "451025de-65cd-4247-a0c0-7fdd82cd9c72"
   },
   "outputs": [
    {
     "data": {
      "text/html": [
       "<div>\n",
       "<style scoped>\n",
       "    .dataframe tbody tr th:only-of-type {\n",
       "        vertical-align: middle;\n",
       "    }\n",
       "\n",
       "    .dataframe tbody tr th {\n",
       "        vertical-align: top;\n",
       "    }\n",
       "\n",
       "    .dataframe thead th {\n",
       "        text-align: right;\n",
       "    }\n",
       "</style>\n",
       "<table border=\"1\" class=\"dataframe\">\n",
       "  <thead>\n",
       "    <tr style=\"text-align: right;\">\n",
       "      <th></th>\n",
       "      <th>0</th>\n",
       "      <th>1</th>\n",
       "      <th>2</th>\n",
       "      <th>3</th>\n",
       "      <th>4</th>\n",
       "      <th>5</th>\n",
       "      <th>6</th>\n",
       "      <th>7</th>\n",
       "      <th>8</th>\n",
       "      <th>9</th>\n",
       "      <th>10</th>\n",
       "      <th>11</th>\n",
       "      <th>12</th>\n",
       "      <th>13</th>\n",
       "      <th>14</th>\n",
       "      <th>15</th>\n",
       "      <th>16</th>\n",
       "      <th>17</th>\n",
       "      <th>18</th>\n",
       "      <th>19</th>\n",
       "      <th>20</th>\n",
       "      <th>21</th>\n",
       "      <th>22</th>\n",
       "      <th>23</th>\n",
       "      <th>24</th>\n",
       "    </tr>\n",
       "  </thead>\n",
       "  <tbody>\n",
       "    <tr>\n",
       "      <th>0</th>\n",
       "      <td>A  hindrance to operations   extracts from the...</td>\n",
       "      <td>Scorecard</td>\n",
       "      <td>Hughes  instant hit buoys Blues</td>\n",
       "      <td>Jack gets his skates on at ice cold Alex</td>\n",
       "      <td>Chaos as Maracana builds up for United</td>\n",
       "      <td>Depleted Leicester prevail as Elliott spoils E...</td>\n",
       "      <td>Hungry Spurs sense rich pickings</td>\n",
       "      <td>Gunners so wide of an easy target</td>\n",
       "      <td>Derby raise a glass to Strupar s debut double</td>\n",
       "      <td>Southgate strikes  Leeds pay the penalty</td>\n",
       "      <td>Hammers hand Robson a youthful lesson</td>\n",
       "      <td>Saints party like it s</td>\n",
       "      <td>Wear wolves have turned into lambs</td>\n",
       "      <td>Stump mike catches testy Gough s taunt</td>\n",
       "      <td>Langer escapes to hit</td>\n",
       "      <td>Flintoff injury piles on woe for England</td>\n",
       "      <td>Hunters threaten Jospin with new battle of the...</td>\n",
       "      <td>Kohl s successor drawn into scandal</td>\n",
       "      <td>The difference between men and women</td>\n",
       "      <td>Sara Denver  nurse turned solicitor</td>\n",
       "      <td>Diana s landmine crusade put Tories in a panic</td>\n",
       "      <td>Yeltsin s resignation caught opposition flat f...</td>\n",
       "      <td>Russian roulette</td>\n",
       "      <td>Sold out</td>\n",
       "      <td>Recovering a title</td>\n",
       "    </tr>\n",
       "    <tr>\n",
       "      <th>1</th>\n",
       "      <td>Scorecard</td>\n",
       "      <td>The best lake scene</td>\n",
       "      <td>Leader  German sleaze inquiry</td>\n",
       "      <td>Cheerio  boyo</td>\n",
       "      <td>The main recommendations</td>\n",
       "      <td>Has Cubie killed fees</td>\n",
       "      <td>Has Cubie killed fees</td>\n",
       "      <td>Has Cubie killed fees</td>\n",
       "      <td>Hopkins  furious  at Foster s lack of Hannibal...</td>\n",
       "      <td>Has Cubie killed fees</td>\n",
       "      <td>A tale of two tails</td>\n",
       "      <td>I say what I like and I like what I say</td>\n",
       "      <td>Elbows  Eyes and Nipples</td>\n",
       "      <td>Task force to assess risk of asteroid collision</td>\n",
       "      <td>How I found myself at last</td>\n",
       "      <td>On the critical list</td>\n",
       "      <td>The timing of their lives</td>\n",
       "      <td>Dear doctor</td>\n",
       "      <td>Irish court halts IRA man s extradition to Nor...</td>\n",
       "      <td>Burundi peace initiative fades after rebels re...</td>\n",
       "      <td>PE points the way forward to the ECB</td>\n",
       "      <td>Campaigners keep up pressure on Nazi war crime...</td>\n",
       "      <td>Jane Ratcliffe</td>\n",
       "      <td>Yet more things you wouldn t know without the ...</td>\n",
       "      <td>Millennium bug fails to bite</td>\n",
       "    </tr>\n",
       "    <tr>\n",
       "      <th>2</th>\n",
       "      <td>Coventry caught on counter by Flo</td>\n",
       "      <td>United s rivals on the road to Rio</td>\n",
       "      <td>Thatcher issues defence before trial by video</td>\n",
       "      <td>Police help Smith lay down the law at Everton</td>\n",
       "      <td>Tale of Trautmann bears two more retellings</td>\n",
       "      <td>England on the rack</td>\n",
       "      <td>Pakistan retaliate with call for video of Walsh</td>\n",
       "      <td>Cullinan continues his Cape monopoly</td>\n",
       "      <td>McGrath puts India out of their misery</td>\n",
       "      <td>Blair Witch bandwagon rolls on</td>\n",
       "      <td>Pele turns up heat on Ferguson</td>\n",
       "      <td>Party divided over Kohl slush fund scandal</td>\n",
       "      <td>Manchester United  England</td>\n",
       "      <td>Women in record South Pole walk</td>\n",
       "      <td>Vasco da Gama  Brazil</td>\n",
       "      <td>South Melbourne  Australia</td>\n",
       "      <td>Necaxa  Mexico</td>\n",
       "      <td>Real Madrid  Spain</td>\n",
       "      <td>Raja Casablanca  Morocco</td>\n",
       "      <td>Corinthians  Brazil</td>\n",
       "      <td>Tony s pet project</td>\n",
       "      <td>Al Nassr  Saudi Arabia</td>\n",
       "      <td>Ideal Holmes show</td>\n",
       "      <td>Pinochet leaves hospital after tests</td>\n",
       "      <td>Useful links</td>\n",
       "    </tr>\n",
       "    <tr>\n",
       "      <th>3</th>\n",
       "      <td>Pilgrim knows how to progress</td>\n",
       "      <td>Thatcher facing ban</td>\n",
       "      <td>McIlroy calls for Irish fighting spirit</td>\n",
       "      <td>Leicester bin stadium blueprint</td>\n",
       "      <td>United braced for Mexican wave</td>\n",
       "      <td>Auntie back in fashion  even if the dress look...</td>\n",
       "      <td>Shoaib appeal goes to the top</td>\n",
       "      <td>Hussain hurt by  shambles  but lays blame on e...</td>\n",
       "      <td>England s decade of disasters</td>\n",
       "      <td>Revenge is sweet for jubilant Cronje</td>\n",
       "      <td>Our choice  not theirs</td>\n",
       "      <td>Profile of former US Nazi Party officer Willia...</td>\n",
       "      <td>New evidence shows record of war crimes suspec...</td>\n",
       "      <td>The rise of the supernerds</td>\n",
       "      <td>Written on the body</td>\n",
       "      <td>Putin admits Yeltsin quit to give him a head s...</td>\n",
       "      <td>BBC worst hit as digital TV begins to bite</td>\n",
       "      <td>How much can you pay for</td>\n",
       "      <td>Christmas glitches</td>\n",
       "      <td>Upending a table  Chopping a line and Scoring ...</td>\n",
       "      <td>Scientific evidence  unreliable   defence claims</td>\n",
       "      <td>Fusco wins judicial review in extradition case</td>\n",
       "      <td>Rebels thwart Russian advance</td>\n",
       "      <td>Blair orders shake up of failing NHS</td>\n",
       "      <td>Lessons of law s hard heart</td>\n",
       "    </tr>\n",
       "    <tr>\n",
       "      <th>4</th>\n",
       "      <td>Hitches and Horlocks</td>\n",
       "      <td>Beckham off but United survive</td>\n",
       "      <td>Breast cancer screening</td>\n",
       "      <td>Alan Parker</td>\n",
       "      <td>Guardian readers  are you all whingers</td>\n",
       "      <td>Hollywood Beyond</td>\n",
       "      <td>Ashes and diamonds</td>\n",
       "      <td>Whingers   a formidable minority</td>\n",
       "      <td>Alan Parker   part two</td>\n",
       "      <td>Thuggery  Toxins and Ties</td>\n",
       "      <td>Met faces fresh attack on race crime</td>\n",
       "      <td>Everton fans top racist  league of shame</td>\n",
       "      <td>Our breasts  ourselves</td>\n",
       "      <td>Russia s new boss has an extremely strange his...</td>\n",
       "      <td>Always and forever</td>\n",
       "      <td>Most everywhere   UDIs</td>\n",
       "      <td>Most wanted   Chloe lunettes</td>\n",
       "      <td>Return of the cane  completely off the agenda</td>\n",
       "      <td>From Sleepy Hollow to Greeneland</td>\n",
       "      <td>Blunkett outlines vision for over   s</td>\n",
       "      <td>Embattled Dobson attacks  play now  pay later ...</td>\n",
       "      <td>Doom and the Dome</td>\n",
       "      <td>What is the north south divide</td>\n",
       "      <td>Aitken released from jail</td>\n",
       "      <td>Gone aloft</td>\n",
       "    </tr>\n",
       "  </tbody>\n",
       "</table>\n",
       "</div>"
      ],
      "text/plain": [
       "                                                   0  ...                            24\n",
       "0  A  hindrance to operations   extracts from the...  ...            Recovering a title\n",
       "1                                          Scorecard  ...  Millennium bug fails to bite\n",
       "2                  Coventry caught on counter by Flo  ...                  Useful links\n",
       "3                      Pilgrim knows how to progress  ...   Lessons of law s hard heart\n",
       "4                               Hitches and Horlocks  ...                    Gone aloft\n",
       "\n",
       "[5 rows x 25 columns]"
      ]
     },
     "execution_count": 11,
     "metadata": {
      "tags": []
     },
     "output_type": "execute_result"
    }
   ],
   "source": [
    "list1= [i for i in range(25)]\n",
    "new_Index=[str(i) for i in list1]\n",
    "data.columns= new_Index\n",
    "data.head(5)"
   ]
  },
  {
   "cell_type": "code",
   "execution_count": null,
   "metadata": {
    "colab": {
     "base_uri": "https://localhost:8080/",
     "height": 148
    },
    "colab_type": "code",
    "id": "BX7aCjzw0c1l",
    "outputId": "69d8b1df-8d25-4280-eaeb-91eea934dcf6"
   },
   "outputs": [
    {
     "data": {
      "text/html": [
       "<div>\n",
       "<style scoped>\n",
       "    .dataframe tbody tr th:only-of-type {\n",
       "        vertical-align: middle;\n",
       "    }\n",
       "\n",
       "    .dataframe tbody tr th {\n",
       "        vertical-align: top;\n",
       "    }\n",
       "\n",
       "    .dataframe thead th {\n",
       "        text-align: right;\n",
       "    }\n",
       "</style>\n",
       "<table border=\"1\" class=\"dataframe\">\n",
       "  <thead>\n",
       "    <tr style=\"text-align: right;\">\n",
       "      <th></th>\n",
       "      <th>0</th>\n",
       "      <th>1</th>\n",
       "      <th>2</th>\n",
       "      <th>3</th>\n",
       "      <th>4</th>\n",
       "      <th>5</th>\n",
       "      <th>6</th>\n",
       "      <th>7</th>\n",
       "      <th>8</th>\n",
       "      <th>9</th>\n",
       "      <th>10</th>\n",
       "      <th>11</th>\n",
       "      <th>12</th>\n",
       "      <th>13</th>\n",
       "      <th>14</th>\n",
       "      <th>15</th>\n",
       "      <th>16</th>\n",
       "      <th>17</th>\n",
       "      <th>18</th>\n",
       "      <th>19</th>\n",
       "      <th>20</th>\n",
       "      <th>21</th>\n",
       "      <th>22</th>\n",
       "      <th>23</th>\n",
       "      <th>24</th>\n",
       "    </tr>\n",
       "  </thead>\n",
       "  <tbody>\n",
       "    <tr>\n",
       "      <th>0</th>\n",
       "      <td>a  hindrance to operations   extracts from the...</td>\n",
       "      <td>scorecard</td>\n",
       "      <td>hughes  instant hit buoys blues</td>\n",
       "      <td>jack gets his skates on at ice cold alex</td>\n",
       "      <td>chaos as maracana builds up for united</td>\n",
       "      <td>depleted leicester prevail as elliott spoils e...</td>\n",
       "      <td>hungry spurs sense rich pickings</td>\n",
       "      <td>gunners so wide of an easy target</td>\n",
       "      <td>derby raise a glass to strupar s debut double</td>\n",
       "      <td>southgate strikes  leeds pay the penalty</td>\n",
       "      <td>hammers hand robson a youthful lesson</td>\n",
       "      <td>saints party like it s</td>\n",
       "      <td>wear wolves have turned into lambs</td>\n",
       "      <td>stump mike catches testy gough s taunt</td>\n",
       "      <td>langer escapes to hit</td>\n",
       "      <td>flintoff injury piles on woe for england</td>\n",
       "      <td>hunters threaten jospin with new battle of the...</td>\n",
       "      <td>kohl s successor drawn into scandal</td>\n",
       "      <td>the difference between men and women</td>\n",
       "      <td>sara denver  nurse turned solicitor</td>\n",
       "      <td>diana s landmine crusade put tories in a panic</td>\n",
       "      <td>yeltsin s resignation caught opposition flat f...</td>\n",
       "      <td>russian roulette</td>\n",
       "      <td>sold out</td>\n",
       "      <td>recovering a title</td>\n",
       "    </tr>\n",
       "  </tbody>\n",
       "</table>\n",
       "</div>"
      ],
      "text/plain": [
       "                                                   0  ...                  24\n",
       "0  a  hindrance to operations   extracts from the...  ...  recovering a title\n",
       "\n",
       "[1 rows x 25 columns]"
      ]
     },
     "execution_count": 12,
     "metadata": {
      "tags": []
     },
     "output_type": "execute_result"
    }
   ],
   "source": [
    "for index in new_Index:\n",
    "    data[index]=data[index].str.lower()\n",
    "data.head(1)"
   ]
  },
  {
   "cell_type": "code",
   "execution_count": null,
   "metadata": {
    "colab": {
     "base_uri": "https://localhost:8080/",
     "height": 69
    },
    "colab_type": "code",
    "id": "aMdIX7wb0jPV",
    "outputId": "fba007c8-94f2-4273-9d34-720ae8938621"
   },
   "outputs": [
    {
     "data": {
      "application/vnd.google.colaboratory.intrinsic": {
       "type": "string"
      },
      "text/plain": [
       "'scorecard the best lake scene leader  german sleaze inquiry cheerio  boyo the main recommendations has cubie killed fees  has cubie killed fees  has cubie killed fees  hopkins  furious  at foster s lack of hannibal appetite has cubie killed fees  a tale of two tails i say what i like and i like what i say elbows  eyes and nipples task force to assess risk of asteroid collision how i found myself at last on the critical list the timing of their lives dear doctor irish court halts ira man s extradition to northern ireland burundi peace initiative fades after rebels reject mandela as mediator pe points the way forward to the ecb campaigners keep up pressure on nazi war crimes suspect jane ratcliffe yet more things you wouldn t know without the movies millennium bug fails to bite'"
      ]
     },
     "execution_count": 13,
     "metadata": {
      "tags": []
     },
     "output_type": "execute_result"
    }
   ],
   "source": [
    "' '.join(str(x) for x in data.iloc[1,0:25])"
   ]
  },
  {
   "cell_type": "code",
   "execution_count": null,
   "metadata": {
    "colab": {},
    "colab_type": "code",
    "id": "Awgw3TZ00nVL"
   },
   "outputs": [],
   "source": [
    "headlines = []\n",
    "for row in range(0,len(data.index)):\n",
    "    headlines.append(' '.join(str(x) for x in data.iloc[row,0:25]))"
   ]
  },
  {
   "cell_type": "code",
   "execution_count": null,
   "metadata": {
    "colab": {
     "base_uri": "https://localhost:8080/",
     "height": 86
    },
    "colab_type": "code",
    "id": "qxt3U39f0pUq",
    "outputId": "02d659c3-c3e2-4dab-9629-96552e350559"
   },
   "outputs": [
    {
     "data": {
      "application/vnd.google.colaboratory.intrinsic": {
       "type": "string"
      },
      "text/plain": [
       "'a  hindrance to operations   extracts from the leaked reports scorecard hughes  instant hit buoys blues jack gets his skates on at ice cold alex chaos as maracana builds up for united depleted leicester prevail as elliott spoils everton s party hungry spurs sense rich pickings gunners so wide of an easy target derby raise a glass to strupar s debut double southgate strikes  leeds pay the penalty hammers hand robson a youthful lesson saints party like it s      wear wolves have turned into lambs stump mike catches testy gough s taunt langer escapes to hit     flintoff injury piles on woe for england hunters threaten jospin with new battle of the somme kohl s successor drawn into scandal the difference between men and women sara denver  nurse turned solicitor diana s landmine crusade put tories in a panic yeltsin s resignation caught opposition flat footed russian roulette sold out recovering a title'"
      ]
     },
     "execution_count": 15,
     "metadata": {
      "tags": []
     },
     "output_type": "execute_result"
    }
   ],
   "source": [
    "headlines[0]"
   ]
  },
  {
   "cell_type": "code",
   "execution_count": null,
   "metadata": {
    "colab": {},
    "colab_type": "code",
    "id": "B5opQMqW1xdl"
   },
   "outputs": [],
   "source": [
    "df[\"Total News\"] = pd.Series(headlines)"
   ]
  },
  {
   "cell_type": "code",
   "execution_count": null,
   "metadata": {
    "colab": {
     "base_uri": "https://localhost:8080/",
     "height": 204
    },
    "colab_type": "code",
    "id": "LVbk33tODMl6",
    "outputId": "d4d50591-2c88-47c8-9d15-31659d3e234f"
   },
   "outputs": [
    {
     "data": {
      "text/html": [
       "<div>\n",
       "<style scoped>\n",
       "    .dataframe tbody tr th:only-of-type {\n",
       "        vertical-align: middle;\n",
       "    }\n",
       "\n",
       "    .dataframe tbody tr th {\n",
       "        vertical-align: top;\n",
       "    }\n",
       "\n",
       "    .dataframe thead th {\n",
       "        text-align: right;\n",
       "    }\n",
       "</style>\n",
       "<table border=\"1\" class=\"dataframe\">\n",
       "  <thead>\n",
       "    <tr style=\"text-align: right;\">\n",
       "      <th></th>\n",
       "      <th>Date</th>\n",
       "      <th>Label</th>\n",
       "      <th>Total News</th>\n",
       "    </tr>\n",
       "  </thead>\n",
       "  <tbody>\n",
       "    <tr>\n",
       "      <th>0</th>\n",
       "      <td>2000-01-03</td>\n",
       "      <td>0</td>\n",
       "      <td>a  hindrance to operations   extracts from the...</td>\n",
       "    </tr>\n",
       "    <tr>\n",
       "      <th>1</th>\n",
       "      <td>2000-01-04</td>\n",
       "      <td>0</td>\n",
       "      <td>scorecard the best lake scene leader  german s...</td>\n",
       "    </tr>\n",
       "    <tr>\n",
       "      <th>2</th>\n",
       "      <td>2000-01-05</td>\n",
       "      <td>0</td>\n",
       "      <td>coventry caught on counter by flo united s riv...</td>\n",
       "    </tr>\n",
       "    <tr>\n",
       "      <th>3</th>\n",
       "      <td>2000-01-06</td>\n",
       "      <td>1</td>\n",
       "      <td>pilgrim knows how to progress thatcher facing ...</td>\n",
       "    </tr>\n",
       "    <tr>\n",
       "      <th>4</th>\n",
       "      <td>2000-01-07</td>\n",
       "      <td>1</td>\n",
       "      <td>hitches and horlocks beckham off but united su...</td>\n",
       "    </tr>\n",
       "  </tbody>\n",
       "</table>\n",
       "</div>"
      ],
      "text/plain": [
       "         Date  Label                                         Total News\n",
       "0  2000-01-03      0  a  hindrance to operations   extracts from the...\n",
       "1  2000-01-04      0  scorecard the best lake scene leader  german s...\n",
       "2  2000-01-05      0  coventry caught on counter by flo united s riv...\n",
       "3  2000-01-06      1  pilgrim knows how to progress thatcher facing ...\n",
       "4  2000-01-07      1  hitches and horlocks beckham off but united su..."
      ]
     },
     "execution_count": 17,
     "metadata": {
      "tags": []
     },
     "output_type": "execute_result"
    }
   ],
   "source": [
    "new_df = df[['Date', 'Label', 'Total News']]\n",
    "new_df.head()"
   ]
  },
  {
   "cell_type": "markdown",
   "metadata": {
    "colab_type": "text",
    "id": "PIe3iJNtLeM4"
   },
   "source": [
    "### NLP Processed Dataframe"
   ]
  },
  {
   "cell_type": "code",
   "execution_count": null,
   "metadata": {
    "colab": {
     "base_uri": "https://localhost:8080/",
     "height": 390
    },
    "colab_type": "code",
    "id": "Wc-UcmQKRqBb",
    "outputId": "c5582f1f-6e71-46cc-90e7-811deac17412"
   },
   "outputs": [
    {
     "data": {
      "text/html": [
       "<div>\n",
       "<style scoped>\n",
       "    .dataframe tbody tr th:only-of-type {\n",
       "        vertical-align: middle;\n",
       "    }\n",
       "\n",
       "    .dataframe tbody tr th {\n",
       "        vertical-align: top;\n",
       "    }\n",
       "\n",
       "    .dataframe thead th {\n",
       "        text-align: right;\n",
       "    }\n",
       "</style>\n",
       "<table border=\"1\" class=\"dataframe\">\n",
       "  <thead>\n",
       "    <tr style=\"text-align: right;\">\n",
       "      <th></th>\n",
       "      <th>Label</th>\n",
       "      <th>Total News</th>\n",
       "    </tr>\n",
       "    <tr>\n",
       "      <th>Date</th>\n",
       "      <th></th>\n",
       "      <th></th>\n",
       "    </tr>\n",
       "  </thead>\n",
       "  <tbody>\n",
       "    <tr>\n",
       "      <th>2000-01-03</th>\n",
       "      <td>0</td>\n",
       "      <td>a  hindrance to operations   extracts from the...</td>\n",
       "    </tr>\n",
       "    <tr>\n",
       "      <th>2000-01-04</th>\n",
       "      <td>0</td>\n",
       "      <td>scorecard the best lake scene leader  german s...</td>\n",
       "    </tr>\n",
       "    <tr>\n",
       "      <th>2000-01-05</th>\n",
       "      <td>0</td>\n",
       "      <td>coventry caught on counter by flo united s riv...</td>\n",
       "    </tr>\n",
       "    <tr>\n",
       "      <th>2000-01-06</th>\n",
       "      <td>1</td>\n",
       "      <td>pilgrim knows how to progress thatcher facing ...</td>\n",
       "    </tr>\n",
       "    <tr>\n",
       "      <th>2000-01-07</th>\n",
       "      <td>1</td>\n",
       "      <td>hitches and horlocks beckham off but united su...</td>\n",
       "    </tr>\n",
       "    <tr>\n",
       "      <th>2000-01-10</th>\n",
       "      <td>1</td>\n",
       "      <td>fifth round draw bbc unveils secret weapon in ...</td>\n",
       "    </tr>\n",
       "    <tr>\n",
       "      <th>2000-01-11</th>\n",
       "      <td>1</td>\n",
       "      <td>man utd       south melbourne how north atlant...</td>\n",
       "    </tr>\n",
       "    <tr>\n",
       "      <th>2000-01-12</th>\n",
       "      <td>0</td>\n",
       "      <td>newcastle seek new football supremo liverpool ...</td>\n",
       "    </tr>\n",
       "    <tr>\n",
       "      <th>2000-01-13</th>\n",
       "      <td>1</td>\n",
       "      <td>bungling officials on the carpet and in the re...</td>\n",
       "    </tr>\n",
       "    <tr>\n",
       "      <th>2000-01-14</th>\n",
       "      <td>1</td>\n",
       "      <td>pompey plump for pulis work ethic roma under f...</td>\n",
       "    </tr>\n",
       "  </tbody>\n",
       "</table>\n",
       "</div>"
      ],
      "text/plain": [
       "            Label                                         Total News\n",
       "Date                                                                \n",
       "2000-01-03      0  a  hindrance to operations   extracts from the...\n",
       "2000-01-04      0  scorecard the best lake scene leader  german s...\n",
       "2000-01-05      0  coventry caught on counter by flo united s riv...\n",
       "2000-01-06      1  pilgrim knows how to progress thatcher facing ...\n",
       "2000-01-07      1  hitches and horlocks beckham off but united su...\n",
       "2000-01-10      1  fifth round draw bbc unveils secret weapon in ...\n",
       "2000-01-11      1  man utd       south melbourne how north atlant...\n",
       "2000-01-12      0  newcastle seek new football supremo liverpool ...\n",
       "2000-01-13      1  bungling officials on the carpet and in the re...\n",
       "2000-01-14      1  pompey plump for pulis work ethic roma under f..."
      ]
     },
     "execution_count": 18,
     "metadata": {
      "tags": []
     },
     "output_type": "execute_result"
    }
   ],
   "source": [
    "nlp_articles_df = pd.concat([new_df[\"Date\"],new_df[\"Label\"],new_df[\"Total News\"]],axis=\"columns\", join = \"inner\")\n",
    "nlp_articles_df.set_index(pd.to_datetime(nlp_articles_df[\"Date\"],infer_datetime_format=True),inplace=True)\n",
    "nlp_articles_df.drop(columns=[\"Date\"],inplace=True)\n",
    "nlp_articles_df.head(10)"
   ]
  },
  {
   "cell_type": "markdown",
   "metadata": {
    "colab_type": "text",
    "id": "6PKx9kyrC-fZ"
   },
   "source": [
    "# Section 2 | Machine Learning"
   ]
  },
  {
   "cell_type": "code",
   "execution_count": null,
   "metadata": {
    "colab": {
     "base_uri": "https://localhost:8080/",
     "height": 71
    },
    "colab_type": "code",
    "id": "9JxyAA02AnYR",
    "outputId": "0e4117ad-38a1-464d-d389-eb35c53e438b"
   },
   "outputs": [
    {
     "name": "stderr",
     "output_type": "stream",
     "text": [
      "/usr/local/lib/python3.6/dist-packages/sklearn/utils/deprecation.py:144: FutureWarning: The sklearn.datasets.samples_generator module is  deprecated in version 0.22 and will be removed in version 0.24. The corresponding classes / functions should instead be imported from sklearn.datasets. Anything that cannot be imported from sklearn.datasets is now part of the private API.\n",
      "  warnings.warn(message, FutureWarning)\n"
     ]
    }
   ],
   "source": [
    "from sklearn.datasets.samples_generator import make_blobs, make_moons\n",
    "from sklearn.model_selection import train_test_split\n",
    "from sklearn.preprocessing import StandardScaler\n",
    "from tensorflow.keras.models import Sequential\n",
    "from tensorflow.keras.layers import Embedding, LSTM, Dense, Dropout\n",
    "from sklearn.ensemble import RandomForestClassifier\n",
    "from sklearn.datasets import make_classification\n",
    "from sklearn.metrics import confusion_matrix, accuracy_score, classification_report\n",
    "from tensorflow.keras.preprocessing.text import Tokenizer\n",
    "from tensorflow.keras.preprocessing.sequence import pad_sequences\n",
    "import matplotlib.pyplot as plt\n",
    "\n",
    "%matplotlib inline"
   ]
  },
  {
   "cell_type": "code",
   "execution_count": null,
   "metadata": {
    "colab": {},
    "colab_type": "code",
    "id": "ptnz25fX1RlD"
   },
   "outputs": [],
   "source": [
    "from sklearn.metrics import classification_report,confusion_matrix,accuracy_score"
   ]
  },
  {
   "cell_type": "code",
   "execution_count": null,
   "metadata": {
    "colab": {},
    "colab_type": "code",
    "id": "pnR3oJF10wrd"
   },
   "outputs": [],
   "source": [
    "from sklearn.feature_extraction.text import CountVectorizer\n",
    "from sklearn.ensemble import RandomForestClassifier"
   ]
  },
  {
   "cell_type": "markdown",
   "metadata": {
    "colab_type": "text",
    "id": "RAC4m5dgT_40"
   },
   "source": [
    "### Running Random Forest Model"
   ]
  },
  {
   "cell_type": "code",
   "execution_count": null,
   "metadata": {
    "colab": {},
    "colab_type": "code",
    "id": "N588Jskq0y7A"
   },
   "outputs": [],
   "source": [
    "countvector=CountVectorizer(ngram_range=(2,2))\n",
    "traindataset=countvector.fit_transform(headlines)"
   ]
  },
  {
   "cell_type": "code",
   "execution_count": null,
   "metadata": {
    "colab": {},
    "colab_type": "code",
    "id": "RHQoyqFN02wP"
   },
   "outputs": [],
   "source": [
    "randomclassifier=RandomForestClassifier(n_estimators=200,criterion='entropy')\n",
    "model_rf = randomclassifier.fit(traindataset,train['Label'])"
   ]
  },
  {
   "cell_type": "code",
   "execution_count": null,
   "metadata": {
    "colab": {},
    "colab_type": "code",
    "id": "CjXfhSBX09M0"
   },
   "outputs": [],
   "source": [
    "test_transform= []\n",
    "for row in range(0,len(test.index)):\n",
    "    test_transform.append(' '.join(str(x) for x in test.iloc[row,2:27]))\n",
    "test_dataset = countvector.transform(test_transform)\n",
    "predictions_rf = randomclassifier.predict(test_dataset)"
   ]
  },
  {
   "cell_type": "code",
   "execution_count": null,
   "metadata": {
    "colab": {
     "base_uri": "https://localhost:8080/",
     "height": 34
    },
    "colab_type": "code",
    "id": "GzzkFC0I0SCU",
    "outputId": "b386e0d8-cbf3-47bc-928b-83ccf34c7bbf"
   },
   "outputs": [
    {
     "data": {
      "text/plain": [
       "(378, 584289)"
      ]
     },
     "execution_count": 25,
     "metadata": {
      "tags": []
     },
     "output_type": "execute_result"
    }
   ],
   "source": [
    "test_dataset.shape"
   ]
  },
  {
   "cell_type": "code",
   "execution_count": null,
   "metadata": {
    "colab": {
     "base_uri": "https://localhost:8080/",
     "height": 170
    },
    "colab_type": "code",
    "id": "ZX05Tc6Vikk2",
    "outputId": "d41a31d6-97f1-4e5e-99ef-c0f39abec4b5"
   },
   "outputs": [
    {
     "name": "stdout",
     "output_type": "stream",
     "text": [
      "              precision    recall  f1-score   support\n",
      "\n",
      "           0       0.95      0.75      0.84       186\n",
      "           1       0.80      0.96      0.87       192\n",
      "\n",
      "    accuracy                           0.86       378\n",
      "   macro avg       0.87      0.86      0.85       378\n",
      "weighted avg       0.87      0.86      0.86       378\n",
      "\n"
     ]
    }
   ],
   "source": [
    "report=classification_report(test['Label'],predictions_rf)\n",
    "print(report)"
   ]
  },
  {
   "cell_type": "markdown",
   "metadata": {
    "colab_type": "text",
    "id": "9OtFv-N2gwmo"
   },
   "source": [
    "### Running LSTM RNN 1"
   ]
  },
  {
   "cell_type": "code",
   "execution_count": null,
   "metadata": {
    "colab": {},
    "colab_type": "code",
    "id": "L_dNBS1GrxBV"
   },
   "outputs": [],
   "source": [
    "X_lstm = nlp_articles_df[\"Total News\"].values.astype(str)\n",
    "y_lstm = nlp_articles_df[\"Label\"].values"
   ]
  },
  {
   "cell_type": "code",
   "execution_count": null,
   "metadata": {
    "colab": {
     "base_uri": "https://localhost:8080/",
     "height": 105
    },
    "colab_type": "code",
    "id": "R59grrQ0yY6-",
    "outputId": "d672d829-4ee3-447b-fa71-bf5aec074544"
   },
   "outputs": [
    {
     "data": {
      "text/plain": [
       "array(['a  hindrance to operations   extracts from the leaked reports scorecard hughes  instant hit buoys blues jack gets his skates on at ice cold alex chaos as maracana builds up for united depleted leicester prevail as elliott spoils everton s party hungry spurs sense rich pickings gunners so wide of an easy target derby raise a glass to strupar s debut double southgate strikes  leeds pay the penalty hammers hand robson a youthful lesson saints party like it s      wear wolves have turned into lambs stump mike catches testy gough s taunt langer escapes to hit     flintoff injury piles on woe for england hunters threaten jospin with new battle of the somme kohl s successor drawn into scandal the difference between men and women sara denver  nurse turned solicitor diana s landmine crusade put tories in a panic yeltsin s resignation caught opposition flat footed russian roulette sold out recovering a title',\n",
       "       'scorecard the best lake scene leader  german sleaze inquiry cheerio  boyo the main recommendations has cubie killed fees  has cubie killed fees  has cubie killed fees  hopkins  furious  at foster s lack of hannibal appetite has cubie killed fees  a tale of two tails i say what i like and i like what i say elbows  eyes and nipples task force to assess risk of asteroid collision how i found myself at last on the critical list the timing of their lives dear doctor irish court halts ira man s extradition to northern ireland burundi peace initiative fades after rebels reject mandela as mediator pe points the way forward to the ecb campaigners keep up pressure on nazi war crimes suspect jane ratcliffe yet more things you wouldn t know without the movies millennium bug fails to bite',\n",
       "       'coventry caught on counter by flo united s rivals on the road to rio thatcher issues defence before trial by video police help smith lay down the law at everton tale of trautmann bears two more retellings england on the rack pakistan retaliate with call for video of walsh cullinan continues his cape monopoly mcgrath puts india out of their misery blair witch bandwagon rolls on pele turns up heat on ferguson party divided over kohl slush fund scandal manchester united  england  women in record south pole walk vasco da gama  brazil  south melbourne  australia  necaxa  mexico  real madrid  spain  raja casablanca  morocco  corinthians  brazil  tony s pet project al nassr  saudi arabia  ideal holmes show pinochet leaves hospital after tests useful links',\n",
       "       ..., 'nan', 'nan', 'nan'], dtype='<U4424')"
      ]
     },
     "execution_count": 28,
     "metadata": {
      "tags": []
     },
     "output_type": "execute_result"
    }
   ],
   "source": [
    "X_lstm"
   ]
  },
  {
   "cell_type": "code",
   "execution_count": null,
   "metadata": {
    "colab": {
     "base_uri": "https://localhost:8080/",
     "height": 34
    },
    "colab_type": "code",
    "id": "gHEv_Lj_Tkdd",
    "outputId": "5bc1a759-2684-4424-db40-da93b4dd2e07"
   },
   "outputs": [
    {
     "data": {
      "text/plain": [
       "str"
      ]
     },
     "execution_count": 29,
     "metadata": {
      "tags": []
     },
     "output_type": "execute_result"
    }
   ],
   "source": [
    "type(nlp_articles_df[\"Total News\"][5])"
   ]
  },
  {
   "cell_type": "code",
   "execution_count": null,
   "metadata": {
    "colab": {},
    "colab_type": "code",
    "id": "o3KPT5vjyuDo"
   },
   "outputs": [],
   "source": [
    "tokenizer = Tokenizer()\n",
    "tokenizer.fit_on_texts(X_lstm)"
   ]
  },
  {
   "cell_type": "code",
   "execution_count": null,
   "metadata": {
    "colab": {},
    "colab_type": "code",
    "id": "zjPR_APUyF5C"
   },
   "outputs": [],
   "source": [
    "X_seq = tokenizer.texts_to_sequences(X_lstm)"
   ]
  },
  {
   "cell_type": "code",
   "execution_count": null,
   "metadata": {
    "colab": {},
    "colab_type": "code",
    "id": "6fqJeZvW3VYZ"
   },
   "outputs": [],
   "source": [
    "X_pad = pad_sequences(X_seq, maxlen=140, padding=\"post\")"
   ]
  },
  {
   "cell_type": "code",
   "execution_count": null,
   "metadata": {
    "colab": {},
    "colab_type": "code",
    "id": "lgmRGlMD3f5V"
   },
   "outputs": [],
   "source": [
    "X_train_lstm, X_test_lstm, y_train_lstm, y_test_lstm = train_test_split(X_pad, y_lstm, random_state=78)"
   ]
  },
  {
   "cell_type": "code",
   "execution_count": null,
   "metadata": {
    "colab": {},
    "colab_type": "code",
    "id": "ZYkueN1r3m5B"
   },
   "outputs": [],
   "source": [
    "# Model set-up\n",
    "vocabulary_size = len(tokenizer.word_counts.keys()) + 1\n",
    "max_words = 140\n",
    "embedding_size = 64"
   ]
  },
  {
   "cell_type": "code",
   "execution_count": null,
   "metadata": {
    "colab": {},
    "colab_type": "code",
    "id": "ZSP8uc2X3qAo"
   },
   "outputs": [],
   "source": [
    "# Define the LSTM RNN model\n",
    "model_lstm = Sequential()\n",
    "# Layer 1\n",
    "model_lstm.add(Embedding(vocabulary_size, embedding_size, input_length=max_words))\n",
    "# Layer 2\n",
    "model_lstm.add(LSTM(units=280))\n",
    "# Output layer\n",
    "model_lstm.add(Dense(1, activation=\"sigmoid\"))"
   ]
  },
  {
   "cell_type": "code",
   "execution_count": null,
   "metadata": {
    "colab": {},
    "colab_type": "code",
    "id": "-u4QKSpU31qL"
   },
   "outputs": [],
   "source": [
    "model_lstm.compile(\n",
    "    loss=\"binary_crossentropy\",\n",
    "    optimizer=\"adam\",\n",
    "    metrics=['accuracy',\"AUC\"]\n",
    ")"
   ]
  },
  {
   "cell_type": "code",
   "execution_count": null,
   "metadata": {
    "colab": {
     "base_uri": "https://localhost:8080/",
     "height": 255
    },
    "colab_type": "code",
    "id": "HWvjnH6s33do",
    "outputId": "f93b0dd6-1b7b-4040-8116-968c396aeb25"
   },
   "outputs": [
    {
     "name": "stdout",
     "output_type": "stream",
     "text": [
      "Model: \"sequential\"\n",
      "_________________________________________________________________\n",
      "Layer (type)                 Output Shape              Param #   \n",
      "=================================================================\n",
      "embedding (Embedding)        (None, 140, 64)           2945856   \n",
      "_________________________________________________________________\n",
      "lstm (LSTM)                  (None, 280)               386400    \n",
      "_________________________________________________________________\n",
      "dense (Dense)                (None, 1)                 281       \n",
      "=================================================================\n",
      "Total params: 3,332,537\n",
      "Trainable params: 3,332,537\n",
      "Non-trainable params: 0\n",
      "_________________________________________________________________\n"
     ]
    }
   ],
   "source": [
    "model_lstm.summary()"
   ]
  },
  {
   "cell_type": "code",
   "execution_count": null,
   "metadata": {
    "colab": {
     "base_uri": "https://localhost:8080/",
     "height": 1000
    },
    "colab_type": "code",
    "id": "gD_OMQdS35pQ",
    "outputId": "89911b33-5e45-4ab8-9a69-af0a062b64a0"
   },
   "outputs": [
    {
     "name": "stdout",
     "output_type": "stream",
     "text": [
      "Epoch 1/50\n",
      "3/3 [==============================] - 11s 4s/step - loss: 0.6171 - accuracy: 0.7639 - auc: 0.9271 - val_loss: 0.7006 - val_accuracy: 0.4691 - val_auc: 0.5019\n",
      "Epoch 2/50\n",
      "3/3 [==============================] - 11s 4s/step - loss: 0.6267 - accuracy: 0.7342 - auc: 0.9122 - val_loss: 0.7002 - val_accuracy: 0.4800 - val_auc: 0.5063\n",
      "Epoch 3/50\n",
      "3/3 [==============================] - 11s 4s/step - loss: 0.6284 - accuracy: 0.7263 - auc: 0.9036 - val_loss: 0.7004 - val_accuracy: 0.4843 - val_auc: 0.5081\n",
      "Epoch 4/50\n",
      "3/3 [==============================] - 11s 4s/step - loss: 0.6261 - accuracy: 0.7342 - auc: 0.9023 - val_loss: 0.7007 - val_accuracy: 0.4843 - val_auc: 0.5063\n",
      "Epoch 5/50\n",
      "3/3 [==============================] - 11s 4s/step - loss: 0.6212 - accuracy: 0.7537 - auc: 0.9031 - val_loss: 0.7012 - val_accuracy: 0.4865 - val_auc: 0.5042\n",
      "Epoch 6/50\n",
      "3/3 [==============================] - 11s 4s/step - loss: 0.6140 - accuracy: 0.7723 - auc: 0.9057 - val_loss: 0.7017 - val_accuracy: 0.4843 - val_auc: 0.5041\n",
      "Epoch 7/50\n",
      "3/3 [==============================] - 11s 4s/step - loss: 0.6049 - accuracy: 0.7900 - auc: 0.9096 - val_loss: 0.7023 - val_accuracy: 0.4854 - val_auc: 0.5038\n",
      "Epoch 8/50\n",
      "3/3 [==============================] - 11s 4s/step - loss: 0.5939 - accuracy: 0.8053 - auc: 0.9143 - val_loss: 0.7031 - val_accuracy: 0.4886 - val_auc: 0.5043\n",
      "Epoch 9/50\n",
      "3/3 [==============================] - 11s 4s/step - loss: 0.5812 - accuracy: 0.8248 - auc: 0.9196 - val_loss: 0.7041 - val_accuracy: 0.4865 - val_auc: 0.5023\n",
      "Epoch 10/50\n",
      "3/3 [==============================] - 11s 4s/step - loss: 0.5664 - accuracy: 0.8397 - auc: 0.9257 - val_loss: 0.7053 - val_accuracy: 0.4865 - val_auc: 0.5011\n",
      "Epoch 11/50\n",
      "3/3 [==============================] - 11s 4s/step - loss: 0.5492 - accuracy: 0.8573 - auc: 0.9329 - val_loss: 0.7070 - val_accuracy: 0.4789 - val_auc: 0.5007\n",
      "Epoch 12/50\n",
      "3/3 [==============================] - 11s 4s/step - loss: 0.5289 - accuracy: 0.8685 - auc: 0.9386 - val_loss: 0.7093 - val_accuracy: 0.4789 - val_auc: 0.4995\n",
      "Epoch 13/50\n",
      "3/3 [==============================] - 11s 4s/step - loss: 0.5046 - accuracy: 0.8787 - auc: 0.9460 - val_loss: 0.7125 - val_accuracy: 0.4767 - val_auc: 0.4969\n",
      "Epoch 14/50\n",
      "3/3 [==============================] - 11s 4s/step - loss: 0.4744 - accuracy: 0.8866 - auc: 0.9556 - val_loss: 0.7173 - val_accuracy: 0.4778 - val_auc: 0.4974\n",
      "Epoch 15/50\n",
      "3/3 [==============================] - 11s 4s/step - loss: 0.4338 - accuracy: 0.8973 - auc: 0.9655 - val_loss: 0.7290 - val_accuracy: 0.5027 - val_auc: 0.5094\n",
      "Epoch 16/50\n",
      "3/3 [==============================] - 11s 4s/step - loss: 0.3827 - accuracy: 0.9033 - auc: 0.9660 - val_loss: 0.7632 - val_accuracy: 0.5211 - val_auc: 0.5222\n",
      "Epoch 17/50\n",
      "3/3 [==============================] - 11s 4s/step - loss: 0.3294 - accuracy: 0.9052 - auc: 0.9707 - val_loss: 0.7532 - val_accuracy: 0.5049 - val_auc: 0.5186\n",
      "Epoch 18/50\n",
      "3/3 [==============================] - 13s 4s/step - loss: 0.2718 - accuracy: 0.9521 - auc: 0.9915 - val_loss: 0.7782 - val_accuracy: 0.5125 - val_auc: 0.5225\n",
      "Epoch 19/50\n",
      "3/3 [==============================] - 11s 4s/step - loss: 0.2044 - accuracy: 0.9610 - auc: 0.9944 - val_loss: 0.9345 - val_accuracy: 0.5092 - val_auc: 0.5083\n",
      "Epoch 20/50\n",
      "3/3 [==============================] - 11s 4s/step - loss: 0.1564 - accuracy: 0.9633 - auc: 0.9938 - val_loss: 0.8286 - val_accuracy: 0.5320 - val_auc: 0.5297\n",
      "Epoch 21/50\n",
      "3/3 [==============================] - 11s 4s/step - loss: 0.1159 - accuracy: 0.9809 - auc: 0.9988 - val_loss: 0.9859 - val_accuracy: 0.4940 - val_auc: 0.5089\n",
      "Epoch 22/50\n",
      "3/3 [==============================] - 11s 4s/step - loss: 0.0781 - accuracy: 0.9828 - auc: 0.9990 - val_loss: 1.0376 - val_accuracy: 0.5341 - val_auc: 0.5170\n",
      "Epoch 23/50\n",
      "3/3 [==============================] - 11s 4s/step - loss: 0.0577 - accuracy: 0.9847 - auc: 0.9994 - val_loss: 1.0112 - val_accuracy: 0.5146 - val_auc: 0.5186\n",
      "Epoch 24/50\n",
      "3/3 [==============================] - 11s 4s/step - loss: 0.0504 - accuracy: 0.9800 - auc: 0.9993 - val_loss: 1.1832 - val_accuracy: 0.5103 - val_auc: 0.5078\n",
      "Epoch 25/50\n",
      "3/3 [==============================] - 11s 4s/step - loss: 0.0356 - accuracy: 0.9861 - auc: 0.9995 - val_loss: 1.4417 - val_accuracy: 0.5092 - val_auc: 0.4930\n",
      "Epoch 26/50\n",
      "3/3 [==============================] - 11s 4s/step - loss: 0.0316 - accuracy: 0.9865 - auc: 0.9996 - val_loss: 1.2611 - val_accuracy: 0.5211 - val_auc: 0.5136\n",
      "Epoch 27/50\n",
      "3/3 [==============================] - 11s 4s/step - loss: 0.0289 - accuracy: 0.9865 - auc: 0.9995 - val_loss: 1.3743 - val_accuracy: 0.5070 - val_auc: 0.5082\n",
      "Epoch 28/50\n",
      "3/3 [==============================] - 11s 4s/step - loss: 0.0256 - accuracy: 0.9837 - auc: 0.9995 - val_loss: 1.6845 - val_accuracy: 0.5081 - val_auc: 0.4979\n",
      "Epoch 29/50\n",
      "3/3 [==============================] - 11s 4s/step - loss: 0.0265 - accuracy: 0.9865 - auc: 0.9995 - val_loss: 1.5362 - val_accuracy: 0.5092 - val_auc: 0.5082\n",
      "Epoch 30/50\n",
      "3/3 [==============================] - 11s 4s/step - loss: 0.0236 - accuracy: 0.9865 - auc: 0.9996 - val_loss: 1.3715 - val_accuracy: 0.5060 - val_auc: 0.5068\n",
      "Epoch 31/50\n",
      "3/3 [==============================] - 11s 4s/step - loss: 0.0241 - accuracy: 0.9865 - auc: 0.9995 - val_loss: 1.4508 - val_accuracy: 0.5016 - val_auc: 0.5081\n",
      "Epoch 32/50\n",
      "3/3 [==============================] - 11s 4s/step - loss: 0.0229 - accuracy: 0.9865 - auc: 0.9995 - val_loss: 1.7202 - val_accuracy: 0.5060 - val_auc: 0.5111\n",
      "Epoch 33/50\n",
      "3/3 [==============================] - 11s 4s/step - loss: 0.0220 - accuracy: 0.9865 - auc: 0.9995 - val_loss: 2.0330 - val_accuracy: 0.5049 - val_auc: 0.5045\n",
      "Epoch 34/50\n",
      "3/3 [==============================] - 11s 4s/step - loss: 0.0224 - accuracy: 0.9865 - auc: 0.9996 - val_loss: 2.4264 - val_accuracy: 0.4832 - val_auc: 0.4666\n",
      "Epoch 35/50\n",
      "3/3 [==============================] - 11s 4s/step - loss: 0.3368 - accuracy: 0.8573 - auc: 0.9385 - val_loss: 0.7949 - val_accuracy: 0.4962 - val_auc: 0.4785\n",
      "Epoch 36/50\n",
      "3/3 [==============================] - 11s 4s/step - loss: 0.3628 - accuracy: 0.8722 - auc: 0.9456 - val_loss: 0.7513 - val_accuracy: 0.4930 - val_auc: 0.4897\n",
      "Epoch 37/50\n",
      "3/3 [==============================] - 11s 4s/step - loss: 0.4107 - accuracy: 0.8717 - auc: 0.9359 - val_loss: 0.7361 - val_accuracy: 0.4832 - val_auc: 0.4913\n",
      "Epoch 38/50\n",
      "3/3 [==============================] - 11s 4s/step - loss: 0.4272 - accuracy: 0.8713 - auc: 0.9368 - val_loss: 0.7287 - val_accuracy: 0.4973 - val_auc: 0.4912\n",
      "Epoch 39/50\n",
      "3/3 [==============================] - 11s 4s/step - loss: 0.4280 - accuracy: 0.8815 - auc: 0.9454 - val_loss: 0.7260 - val_accuracy: 0.4951 - val_auc: 0.4903\n",
      "Epoch 40/50\n",
      "3/3 [==============================] - 11s 4s/step - loss: 0.4181 - accuracy: 0.8917 - auc: 0.9568 - val_loss: 0.7277 - val_accuracy: 0.4919 - val_auc: 0.4872\n",
      "Epoch 41/50\n",
      "3/3 [==============================] - 11s 4s/step - loss: 0.3995 - accuracy: 0.9024 - auc: 0.9683 - val_loss: 0.7382 - val_accuracy: 0.4767 - val_auc: 0.4812\n",
      "Epoch 42/50\n",
      "3/3 [==============================] - 11s 4s/step - loss: 0.3732 - accuracy: 0.9126 - auc: 0.9762 - val_loss: 0.7678 - val_accuracy: 0.4821 - val_auc: 0.4725\n",
      "Epoch 43/50\n",
      "3/3 [==============================] - 11s 4s/step - loss: 0.3472 - accuracy: 0.9075 - auc: 0.9771 - val_loss: 0.7794 - val_accuracy: 0.4789 - val_auc: 0.4740\n",
      "Epoch 44/50\n",
      "3/3 [==============================] - 11s 4s/step - loss: 0.3101 - accuracy: 0.9303 - auc: 0.9820 - val_loss: 0.7887 - val_accuracy: 0.4865 - val_auc: 0.4781\n",
      "Epoch 45/50\n",
      "3/3 [==============================] - 11s 4s/step - loss: 0.2724 - accuracy: 0.9414 - auc: 0.9875 - val_loss: 0.8484 - val_accuracy: 0.4735 - val_auc: 0.4732\n",
      "Epoch 46/50\n",
      "3/3 [==============================] - 11s 4s/step - loss: 0.2465 - accuracy: 0.9442 - auc: 0.9830 - val_loss: 0.8378 - val_accuracy: 0.4940 - val_auc: 0.4764\n",
      "Epoch 47/50\n",
      "3/3 [==============================] - 11s 4s/step - loss: 0.2060 - accuracy: 0.9619 - auc: 0.9918 - val_loss: 0.8665 - val_accuracy: 0.4875 - val_auc: 0.4793\n",
      "Epoch 48/50\n",
      "3/3 [==============================] - 11s 4s/step - loss: 0.1825 - accuracy: 0.9670 - auc: 0.9898 - val_loss: 0.9435 - val_accuracy: 0.4865 - val_auc: 0.4759\n",
      "Epoch 49/50\n",
      "3/3 [==============================] - 11s 4s/step - loss: 0.1602 - accuracy: 0.9670 - auc: 0.9883 - val_loss: 1.0145 - val_accuracy: 0.4810 - val_auc: 0.4723\n",
      "Epoch 50/50\n",
      "3/3 [==============================] - 11s 4s/step - loss: 0.1383 - accuracy: 0.9721 - auc: 0.9896 - val_loss: 1.0584 - val_accuracy: 0.4810 - val_auc: 0.4704\n"
     ]
    }
   ],
   "source": [
    "# Training the model\n",
    "batch_size = 1000\n",
    "lstm_history = model_lstm.fit(\n",
    "    X_train_lstm,\n",
    "    y_train_lstm,\n",
    "    epochs=50,\n",
    "    batch_size=batch_size,\n",
    "    verbose=1,\n",
    "    validation_split=0.3\n",
    ")"
   ]
  },
  {
   "cell_type": "code",
   "execution_count": null,
   "metadata": {
    "colab": {
     "base_uri": "https://localhost:8080/",
     "height": 88
    },
    "colab_type": "code",
    "id": "5pgyJ62h41Mi",
    "outputId": "f1e95191-5a85-448d-885a-12cce000e477"
   },
   "outputs": [
    {
     "name": "stdout",
     "output_type": "stream",
     "text": [
      "WARNING:tensorflow:From <ipython-input-40-a97764fd7a9f>:1: Sequential.predict_classes (from tensorflow.python.keras.engine.sequential) is deprecated and will be removed after 2021-01-01.\n",
      "Instructions for updating:\n",
      "Please use instead:* `np.argmax(model.predict(x), axis=-1)`,   if your model does multi-class classification   (e.g. if it uses a `softmax` last-layer activation).* `(model.predict(x) > 0.5).astype(\"int32\")`,   if your model does binary classification   (e.g. if it uses a `sigmoid` last-layer activation).\n"
     ]
    }
   ],
   "source": [
    "predicted = model_lstm.predict_classes(X_test_lstm)"
   ]
  },
  {
   "cell_type": "code",
   "execution_count": null,
   "metadata": {
    "colab": {
     "base_uri": "https://localhost:8080/",
     "height": 1000
    },
    "colab_type": "code",
    "id": "m3iveZLH4271",
    "outputId": "ed8aa0b5-c288-426a-d5ac-89835c0cb68a"
   },
   "outputs": [
    {
     "data": {
      "text/html": [
       "<div>\n",
       "<style scoped>\n",
       "    .dataframe tbody tr th:only-of-type {\n",
       "        vertical-align: middle;\n",
       "    }\n",
       "\n",
       "    .dataframe tbody tr th {\n",
       "        vertical-align: top;\n",
       "    }\n",
       "\n",
       "    .dataframe thead th {\n",
       "        text-align: right;\n",
       "    }\n",
       "</style>\n",
       "<table border=\"1\" class=\"dataframe\">\n",
       "  <thead>\n",
       "    <tr style=\"text-align: right;\">\n",
       "      <th></th>\n",
       "      <th>Text</th>\n",
       "      <th>Actual</th>\n",
       "      <th>Predicted</th>\n",
       "    </tr>\n",
       "  </thead>\n",
       "  <tbody>\n",
       "    <tr>\n",
       "      <th>0</th>\n",
       "      <td>a  hindrance to operations   extracts from the...</td>\n",
       "      <td>0</td>\n",
       "      <td>1</td>\n",
       "    </tr>\n",
       "    <tr>\n",
       "      <th>1</th>\n",
       "      <td>scorecard the best lake scene leader  german s...</td>\n",
       "      <td>0</td>\n",
       "      <td>0</td>\n",
       "    </tr>\n",
       "    <tr>\n",
       "      <th>2</th>\n",
       "      <td>coventry caught on counter by flo united s riv...</td>\n",
       "      <td>0</td>\n",
       "      <td>0</td>\n",
       "    </tr>\n",
       "    <tr>\n",
       "      <th>3</th>\n",
       "      <td>pilgrim knows how to progress thatcher facing ...</td>\n",
       "      <td>1</td>\n",
       "      <td>1</td>\n",
       "    </tr>\n",
       "    <tr>\n",
       "      <th>4</th>\n",
       "      <td>hitches and horlocks beckham off but united su...</td>\n",
       "      <td>1</td>\n",
       "      <td>0</td>\n",
       "    </tr>\n",
       "    <tr>\n",
       "      <th>5</th>\n",
       "      <td>fifth round draw bbc unveils secret weapon in ...</td>\n",
       "      <td>1</td>\n",
       "      <td>1</td>\n",
       "    </tr>\n",
       "    <tr>\n",
       "      <th>6</th>\n",
       "      <td>man utd       south melbourne how north atlant...</td>\n",
       "      <td>1</td>\n",
       "      <td>0</td>\n",
       "    </tr>\n",
       "    <tr>\n",
       "      <th>7</th>\n",
       "      <td>newcastle seek new football supremo liverpool ...</td>\n",
       "      <td>1</td>\n",
       "      <td>0</td>\n",
       "    </tr>\n",
       "    <tr>\n",
       "      <th>8</th>\n",
       "      <td>bungling officials on the carpet and in the re...</td>\n",
       "      <td>1</td>\n",
       "      <td>0</td>\n",
       "    </tr>\n",
       "    <tr>\n",
       "      <th>9</th>\n",
       "      <td>pompey plump for pulis work ethic roma under f...</td>\n",
       "      <td>1</td>\n",
       "      <td>0</td>\n",
       "    </tr>\n",
       "    <tr>\n",
       "      <th>10</th>\n",
       "      <td>england s elite set for pay struggle robson pu...</td>\n",
       "      <td>0</td>\n",
       "      <td>0</td>\n",
       "    </tr>\n",
       "    <tr>\n",
       "      <th>11</th>\n",
       "      <td>no apologies from the captains for contrived f...</td>\n",
       "      <td>1</td>\n",
       "      <td>1</td>\n",
       "    </tr>\n",
       "    <tr>\n",
       "      <th>12</th>\n",
       "      <td>homes alone won t make us world beaters wemble...</td>\n",
       "      <td>0</td>\n",
       "      <td>1</td>\n",
       "    </tr>\n",
       "    <tr>\n",
       "      <th>13</th>\n",
       "      <td>never mind tyson  we is the tops at melting th...</td>\n",
       "      <td>0</td>\n",
       "      <td>0</td>\n",
       "    </tr>\n",
       "    <tr>\n",
       "      <th>14</th>\n",
       "      <td>lee puts the skids on pakistan jim swanton die...</td>\n",
       "      <td>0</td>\n",
       "      <td>1</td>\n",
       "    </tr>\n",
       "    <tr>\n",
       "      <th>15</th>\n",
       "      <td>dazzler is back and england are beaming rivald...</td>\n",
       "      <td>1</td>\n",
       "      <td>0</td>\n",
       "    </tr>\n",
       "    <tr>\n",
       "      <th>16</th>\n",
       "      <td>best go for georgie and sack good time charlto...</td>\n",
       "      <td>0</td>\n",
       "      <td>0</td>\n",
       "    </tr>\n",
       "    <tr>\n",
       "      <th>17</th>\n",
       "      <td>lancashire target tendulkar the tyke early sho...</td>\n",
       "      <td>0</td>\n",
       "      <td>0</td>\n",
       "    </tr>\n",
       "    <tr>\n",
       "      <th>18</th>\n",
       "      <td>carlton ratings rise at new midlands station u...</td>\n",
       "      <td>1</td>\n",
       "      <td>0</td>\n",
       "    </tr>\n",
       "    <tr>\n",
       "      <th>19</th>\n",
       "      <td>nationwide third division nationwide second di...</td>\n",
       "      <td>1</td>\n",
       "      <td>0</td>\n",
       "    </tr>\n",
       "    <tr>\n",
       "      <th>20</th>\n",
       "      <td>double delight for shearer even ferguson wants...</td>\n",
       "      <td>1</td>\n",
       "      <td>1</td>\n",
       "    </tr>\n",
       "    <tr>\n",
       "      <th>21</th>\n",
       "      <td>hospital case english women fall apart in thir...</td>\n",
       "      <td>0</td>\n",
       "      <td>1</td>\n",
       "    </tr>\n",
       "    <tr>\n",
       "      <th>22</th>\n",
       "      <td>scoreboard flower power clears path to summit ...</td>\n",
       "      <td>1</td>\n",
       "      <td>1</td>\n",
       "    </tr>\n",
       "    <tr>\n",
       "      <th>23</th>\n",
       "      <td>vialli will play only in  emergency  safety fi...</td>\n",
       "      <td>1</td>\n",
       "      <td>1</td>\n",
       "    </tr>\n",
       "    <tr>\n",
       "      <th>24</th>\n",
       "      <td>fletcher backs hick to the hilt south africa e...</td>\n",
       "      <td>1</td>\n",
       "      <td>1</td>\n",
       "    </tr>\n",
       "    <tr>\n",
       "      <th>25</th>\n",
       "      <td>wayward shoaib told suspension will stay maddy...</td>\n",
       "      <td>1</td>\n",
       "      <td>1</td>\n",
       "    </tr>\n",
       "    <tr>\n",
       "      <th>26</th>\n",
       "      <td>rangers bid for rebrov newcastle s glass final...</td>\n",
       "      <td>0</td>\n",
       "      <td>0</td>\n",
       "    </tr>\n",
       "    <tr>\n",
       "      <th>27</th>\n",
       "      <td>gunners and hammers to draw while foxes triump...</td>\n",
       "      <td>0</td>\n",
       "      <td>0</td>\n",
       "    </tr>\n",
       "    <tr>\n",
       "      <th>28</th>\n",
       "      <td>champagne breakfasts and batting collapses tha...</td>\n",
       "      <td>1</td>\n",
       "      <td>0</td>\n",
       "    </tr>\n",
       "    <tr>\n",
       "      <th>29</th>\n",
       "      <td>call to deduct points from clubs referees find...</td>\n",
       "      <td>1</td>\n",
       "      <td>1</td>\n",
       "    </tr>\n",
       "    <tr>\n",
       "      <th>30</th>\n",
       "      <td>a referee s eye view at upton park england fin...</td>\n",
       "      <td>0</td>\n",
       "      <td>0</td>\n",
       "    </tr>\n",
       "    <tr>\n",
       "      <th>31</th>\n",
       "      <td>closing ranks behind the thirtysomething toddl...</td>\n",
       "      <td>1</td>\n",
       "      <td>0</td>\n",
       "    </tr>\n",
       "    <tr>\n",
       "      <th>32</th>\n",
       "      <td>natwest trades its trophy for a menage a trois...</td>\n",
       "      <td>0</td>\n",
       "      <td>1</td>\n",
       "    </tr>\n",
       "    <tr>\n",
       "      <th>33</th>\n",
       "      <td>england to get salaries tied to results in ela...</td>\n",
       "      <td>1</td>\n",
       "      <td>0</td>\n",
       "    </tr>\n",
       "    <tr>\n",
       "      <th>34</th>\n",
       "      <td>batistuta and co are given a licence to thrill...</td>\n",
       "      <td>1</td>\n",
       "      <td>1</td>\n",
       "    </tr>\n",
       "    <tr>\n",
       "      <th>35</th>\n",
       "      <td>eager keane bounces czechs healy s debut doubl...</td>\n",
       "      <td>0</td>\n",
       "      <td>0</td>\n",
       "    </tr>\n",
       "    <tr>\n",
       "      <th>36</th>\n",
       "      <td>a human reminder to the monster pakistan set o...</td>\n",
       "      <td>0</td>\n",
       "      <td>0</td>\n",
       "    </tr>\n",
       "    <tr>\n",
       "      <th>37</th>\n",
       "      <td>brady in court for right to end life hindley  ...</td>\n",
       "      <td>1</td>\n",
       "      <td>0</td>\n",
       "    </tr>\n",
       "    <tr>\n",
       "      <th>38</th>\n",
       "      <td>fulham draw little comfort marseille       che...</td>\n",
       "      <td>1</td>\n",
       "      <td>1</td>\n",
       "    </tr>\n",
       "    <tr>\n",
       "      <th>39</th>\n",
       "      <td>the clockwatcher chelsea fall to french resist...</td>\n",
       "      <td>0</td>\n",
       "      <td>0</td>\n",
       "    </tr>\n",
       "  </tbody>\n",
       "</table>\n",
       "</div>"
      ],
      "text/plain": [
       "                                                 Text  Actual  Predicted\n",
       "0   a  hindrance to operations   extracts from the...       0          1\n",
       "1   scorecard the best lake scene leader  german s...       0          0\n",
       "2   coventry caught on counter by flo united s riv...       0          0\n",
       "3   pilgrim knows how to progress thatcher facing ...       1          1\n",
       "4   hitches and horlocks beckham off but united su...       1          0\n",
       "5   fifth round draw bbc unveils secret weapon in ...       1          1\n",
       "6   man utd       south melbourne how north atlant...       1          0\n",
       "7   newcastle seek new football supremo liverpool ...       1          0\n",
       "8   bungling officials on the carpet and in the re...       1          0\n",
       "9   pompey plump for pulis work ethic roma under f...       1          0\n",
       "10  england s elite set for pay struggle robson pu...       0          0\n",
       "11  no apologies from the captains for contrived f...       1          1\n",
       "12  homes alone won t make us world beaters wemble...       0          1\n",
       "13  never mind tyson  we is the tops at melting th...       0          0\n",
       "14  lee puts the skids on pakistan jim swanton die...       0          1\n",
       "15  dazzler is back and england are beaming rivald...       1          0\n",
       "16  best go for georgie and sack good time charlto...       0          0\n",
       "17  lancashire target tendulkar the tyke early sho...       0          0\n",
       "18  carlton ratings rise at new midlands station u...       1          0\n",
       "19  nationwide third division nationwide second di...       1          0\n",
       "20  double delight for shearer even ferguson wants...       1          1\n",
       "21  hospital case english women fall apart in thir...       0          1\n",
       "22  scoreboard flower power clears path to summit ...       1          1\n",
       "23  vialli will play only in  emergency  safety fi...       1          1\n",
       "24  fletcher backs hick to the hilt south africa e...       1          1\n",
       "25  wayward shoaib told suspension will stay maddy...       1          1\n",
       "26  rangers bid for rebrov newcastle s glass final...       0          0\n",
       "27  gunners and hammers to draw while foxes triump...       0          0\n",
       "28  champagne breakfasts and batting collapses tha...       1          0\n",
       "29  call to deduct points from clubs referees find...       1          1\n",
       "30  a referee s eye view at upton park england fin...       0          0\n",
       "31  closing ranks behind the thirtysomething toddl...       1          0\n",
       "32  natwest trades its trophy for a menage a trois...       0          1\n",
       "33  england to get salaries tied to results in ela...       1          0\n",
       "34  batistuta and co are given a licence to thrill...       1          1\n",
       "35  eager keane bounces czechs healy s debut doubl...       0          0\n",
       "36  a human reminder to the monster pakistan set o...       0          0\n",
       "37  brady in court for right to end life hindley  ...       1          0\n",
       "38  fulham draw little comfort marseille       che...       1          1\n",
       "39  the clockwatcher chelsea fall to french resist...       0          0"
      ]
     },
     "execution_count": 42,
     "metadata": {
      "tags": []
     },
     "output_type": "execute_result"
    }
   ],
   "source": [
    "sentiments = pd.DataFrame({\"Text\": new_df[\"Total News\"][:1026], \"Actual\": y_test_lstm[:1026], \"Predicted\": predicted.ravel()})\n",
    "sentiments.head(40)"
   ]
  },
  {
   "cell_type": "code",
   "execution_count": null,
   "metadata": {
    "colab": {
     "base_uri": "https://localhost:8080/",
     "height": 281
    },
    "colab_type": "code",
    "id": "loNLSGAh8w6j",
    "outputId": "2f9c1ee5-8cd3-4852-aa45-99a405a0c4a4"
   },
   "outputs": [
    {
     "data": {
      "image/png": "[encoded data removed]",
      "text/plain": [
       "<Figure size 432x288 with 1 Axes>"
      ]
     },
     "metadata": {
      "needs_background": "light",
      "tags": []
     },
     "output_type": "display_data"
    }
   ],
   "source": [
    "plt.plot(lstm_history.history[\"loss\"])\n",
    "plt.plot(lstm_history.history[\"val_loss\"])\n",
    "plt.title(\"Loss_function\")\n",
    "plt.legend([\"Train\", \"Test\"])\n",
    "plt.show()"
   ]
  },
  {
   "cell_type": "code",
   "execution_count": null,
   "metadata": {
    "colab": {
     "base_uri": "https://localhost:8080/",
     "height": 281
    },
    "colab_type": "code",
    "id": "qFtI_BkRiqPw",
    "outputId": "543bfe8d-8f0e-4a86-d393-b8d537fde98c"
   },
   "outputs": [
    {
     "data": {
      "image/png": "[encoded data removed]",
      "text/plain": [
       "<Figure size 432x288 with 1 Axes>"
      ]
     },
     "metadata": {
      "needs_background": "light",
      "tags": []
     },
     "output_type": "display_data"
    }
   ],
   "source": [
    "plt.plot(lstm_history.history[\"auc\"])\n",
    "plt.plot(lstm_history.history[\"val_auc\"])\n",
    "plt.title(\"AUC\")\n",
    "plt.legend([\"Train\", \"Test\"])\n",
    "plt.show()"
   ]
  },
  {
   "cell_type": "code",
   "execution_count": null,
   "metadata": {
    "colab": {
     "base_uri": "https://localhost:8080/",
     "height": 281
    },
    "colab_type": "code",
    "id": "EvSbieQrxYDi",
    "outputId": "a521c936-5090-4eab-d32c-7ad3928ebc97"
   },
   "outputs": [
    {
     "data": {
      "image/png": "[encoded data removed]",
      "text/plain": [
       "<Figure size 432x288 with 1 Axes>"
      ]
     },
     "metadata": {
      "needs_background": "light",
      "tags": []
     },
     "output_type": "display_data"
    }
   ],
   "source": [
    "plt.plot(lstm_history.history[\"accuracy\"])\n",
    "plt.plot(lstm_history.history[\"val_accuracy\"])\n",
    "plt.title(\"Accuracy\")\n",
    "plt.legend([\"Train\", \"Test\"])\n",
    "plt.show()"
   ]
  },
  {
   "cell_type": "code",
   "execution_count": null,
   "metadata": {
    "colab": {
     "base_uri": "https://localhost:8080/",
     "height": 170
    },
    "colab_type": "code",
    "id": "4AlgTfB3iqal",
    "outputId": "5170f5fa-e25c-4377-ab6f-be4b9aa87049"
   },
   "outputs": [
    {
     "name": "stdout",
     "output_type": "stream",
     "text": [
      "              precision    recall  f1-score   support\n",
      "\n",
      "           0       0.48      0.49      0.48       497\n",
      "           1       0.51      0.50      0.50       529\n",
      "\n",
      "    accuracy                           0.49      1026\n",
      "   macro avg       0.49      0.49      0.49      1026\n",
      "weighted avg       0.49      0.49      0.49      1026\n",
      "\n"
     ]
    }
   ],
   "source": [
    "report=classification_report(sentiments['Actual'],predicted)\n",
    "print(report)"
   ]
  },
  {
   "cell_type": "markdown",
   "metadata": {
    "colab_type": "text",
    "id": "YHuD23MsnG5x"
   },
   "source": [
    "### Running LSTM RNN 2"
   ]
  },
  {
   "cell_type": "code",
   "execution_count": null,
   "metadata": {
    "colab": {},
    "colab_type": "code",
    "id": "fV90An0jnM4T"
   },
   "outputs": [],
   "source": [
    "# Define the LSTM RNN model\n",
    "model_lstm_2 = Sequential()\n",
    "dropout_fraction = 0.2\n",
    "# Layer 1\n",
    "model_lstm_2.add(Embedding(vocabulary_size, embedding_size, input_length=max_words))\n",
    "model_lstm_2.add(Dropout(dropout_fraction))\n",
    "# Layer 2\n",
    "model_lstm_2.add(LSTM(units=50))\n",
    "model_lstm_2.add(Dropout(dropout_fraction))\n",
    "# Output layer\n",
    "model_lstm_2.add(Dense(1, activation=\"sigmoid\"))"
   ]
  },
  {
   "cell_type": "code",
   "execution_count": null,
   "metadata": {
    "colab": {},
    "colab_type": "code",
    "id": "s9KU9V-8oDU9"
   },
   "outputs": [],
   "source": [
    "model_lstm_2.compile(\n",
    "    loss=\"binary_crossentropy\",\n",
    "    optimizer=\"adam\",\n",
    "    metrics=['accuracy',\"AUC\"]\n",
    ")"
   ]
  },
  {
   "cell_type": "code",
   "execution_count": null,
   "metadata": {
    "colab": {
     "base_uri": "https://localhost:8080/",
     "height": 323
    },
    "colab_type": "code",
    "id": "bcudxMH6oMBY",
    "outputId": "f3455370-c41b-4ab2-eb57-192cee2bc5b3"
   },
   "outputs": [
    {
     "name": "stdout",
     "output_type": "stream",
     "text": [
      "Model: \"sequential_6\"\n",
      "_________________________________________________________________\n",
      "Layer (type)                 Output Shape              Param #   \n",
      "=================================================================\n",
      "embedding_6 (Embedding)      (None, 140, 64)           2945856   \n",
      "_________________________________________________________________\n",
      "dropout_5 (Dropout)          (None, 140, 64)           0         \n",
      "_________________________________________________________________\n",
      "lstm_4 (LSTM)                (None, 50)                23000     \n",
      "_________________________________________________________________\n",
      "dropout_6 (Dropout)          (None, 50)                0         \n",
      "_________________________________________________________________\n",
      "dense_4 (Dense)              (None, 1)                 51        \n",
      "=================================================================\n",
      "Total params: 2,968,907\n",
      "Trainable params: 2,968,907\n",
      "Non-trainable params: 0\n",
      "_________________________________________________________________\n"
     ]
    }
   ],
   "source": [
    "model_lstm_2.summary()"
   ]
  },
  {
   "cell_type": "code",
   "execution_count": null,
   "metadata": {
    "colab": {
     "base_uri": "https://localhost:8080/",
     "height": 1000
    },
    "colab_type": "code",
    "id": "wFgETkAToZ-1",
    "outputId": "e8a2a9e2-ebda-4deb-a129-7e507954090d"
   },
   "outputs": [
    {
     "name": "stdout",
     "output_type": "stream",
     "text": [
      "Epoch 1/30\n",
      "3/3 [==============================] - 2s 652ms/step - loss: 0.6928 - accuracy: 0.5037 - auc: 0.4998 - val_loss: 0.6923 - val_accuracy: 0.5395 - val_auc: 0.4853\n",
      "Epoch 2/30\n",
      "3/3 [==============================] - 1s 494ms/step - loss: 0.6898 - accuracy: 0.5516 - auc: 0.6074 - val_loss: 0.6919 - val_accuracy: 0.5330 - val_auc: 0.4855\n",
      "Epoch 3/30\n",
      "3/3 [==============================] - 1s 488ms/step - loss: 0.6870 - accuracy: 0.5404 - auc: 0.6871 - val_loss: 0.6917 - val_accuracy: 0.5341 - val_auc: 0.4921\n",
      "Epoch 4/30\n",
      "3/3 [==============================] - 1s 484ms/step - loss: 0.6841 - accuracy: 0.5353 - auc: 0.7380 - val_loss: 0.6917 - val_accuracy: 0.5341 - val_auc: 0.4838\n",
      "Epoch 5/30\n",
      "3/3 [==============================] - 1s 481ms/step - loss: 0.6799 - accuracy: 0.5349 - auc: 0.7815 - val_loss: 0.6918 - val_accuracy: 0.5341 - val_auc: 0.4859\n",
      "Epoch 6/30\n",
      "3/3 [==============================] - 1s 494ms/step - loss: 0.6739 - accuracy: 0.5446 - auc: 0.8107 - val_loss: 0.6920 - val_accuracy: 0.5330 - val_auc: 0.4930\n",
      "Epoch 7/30\n",
      "3/3 [==============================] - 1s 490ms/step - loss: 0.6653 - accuracy: 0.5762 - auc: 0.8297 - val_loss: 0.6923 - val_accuracy: 0.5341 - val_auc: 0.4948\n",
      "Epoch 8/30\n",
      "3/3 [==============================] - 1s 487ms/step - loss: 0.6527 - accuracy: 0.6538 - auc: 0.8527 - val_loss: 0.6930 - val_accuracy: 0.5222 - val_auc: 0.4977\n",
      "Epoch 9/30\n",
      "3/3 [==============================] - 1s 498ms/step - loss: 0.6317 - accuracy: 0.7203 - auc: 0.8839 - val_loss: 0.7013 - val_accuracy: 0.5309 - val_auc: 0.4943\n",
      "Epoch 10/30\n",
      "3/3 [==============================] - 2s 517ms/step - loss: 0.5989 - accuracy: 0.6603 - auc: 0.8980 - val_loss: 0.6984 - val_accuracy: 0.5179 - val_auc: 0.4839\n",
      "Epoch 11/30\n",
      "3/3 [==============================] - 1s 495ms/step - loss: 0.5543 - accuracy: 0.8717 - auc: 0.9704 - val_loss: 0.7366 - val_accuracy: 0.4919 - val_auc: 0.4849\n",
      "Epoch 12/30\n",
      "3/3 [==============================] - 2s 503ms/step - loss: 0.5701 - accuracy: 0.7997 - auc: 0.8616 - val_loss: 0.7101 - val_accuracy: 0.4897 - val_auc: 0.4834\n",
      "Epoch 13/30\n",
      "3/3 [==============================] - 1s 489ms/step - loss: 0.4915 - accuracy: 0.9117 - auc: 0.9771 - val_loss: 0.7113 - val_accuracy: 0.4724 - val_auc: 0.4877\n",
      "Epoch 14/30\n",
      "3/3 [==============================] - 1s 491ms/step - loss: 0.4965 - accuracy: 0.8899 - auc: 0.9889 - val_loss: 0.7104 - val_accuracy: 0.4756 - val_auc: 0.4994\n",
      "Epoch 15/30\n",
      "3/3 [==============================] - 1s 482ms/step - loss: 0.4770 - accuracy: 0.9229 - auc: 0.9875 - val_loss: 0.7093 - val_accuracy: 0.5016 - val_auc: 0.5065\n",
      "Epoch 16/30\n",
      "3/3 [==============================] - 1s 480ms/step - loss: 0.4467 - accuracy: 0.9243 - auc: 0.9766 - val_loss: 0.7121 - val_accuracy: 0.5038 - val_auc: 0.5093\n",
      "Epoch 17/30\n",
      "3/3 [==============================] - 1s 491ms/step - loss: 0.4103 - accuracy: 0.9219 - auc: 0.9703 - val_loss: 0.7187 - val_accuracy: 0.5005 - val_auc: 0.5071\n",
      "Epoch 18/30\n",
      "3/3 [==============================] - 1s 483ms/step - loss: 0.3637 - accuracy: 0.9345 - auc: 0.9778 - val_loss: 0.7284 - val_accuracy: 0.4951 - val_auc: 0.5016\n",
      "Epoch 19/30\n",
      "3/3 [==============================] - 1s 480ms/step - loss: 0.3072 - accuracy: 0.9521 - auc: 0.9918 - val_loss: 0.7539 - val_accuracy: 0.4919 - val_auc: 0.4851\n",
      "Epoch 20/30\n",
      "3/3 [==============================] - 1s 484ms/step - loss: 0.2479 - accuracy: 0.9628 - auc: 0.9960 - val_loss: 0.8282 - val_accuracy: 0.4940 - val_auc: 0.4848\n",
      "Epoch 21/30\n",
      "3/3 [==============================] - 1s 482ms/step - loss: 0.1937 - accuracy: 0.9563 - auc: 0.9946 - val_loss: 1.0435 - val_accuracy: 0.5060 - val_auc: 0.4883\n",
      "Epoch 22/30\n",
      "3/3 [==============================] - 1s 482ms/step - loss: 0.1790 - accuracy: 0.9493 - auc: 0.9954 - val_loss: 0.9951 - val_accuracy: 0.4875 - val_auc: 0.4880\n",
      "Epoch 23/30\n",
      "3/3 [==============================] - 1s 491ms/step - loss: 0.1418 - accuracy: 0.9610 - auc: 0.9960 - val_loss: 0.9624 - val_accuracy: 0.4832 - val_auc: 0.4887\n",
      "Epoch 24/30\n",
      "3/3 [==============================] - 1s 488ms/step - loss: 0.1305 - accuracy: 0.9665 - auc: 0.9983 - val_loss: 0.9411 - val_accuracy: 0.4767 - val_auc: 0.4918\n",
      "Epoch 25/30\n",
      "3/3 [==============================] - 1s 485ms/step - loss: 0.1059 - accuracy: 0.9796 - auc: 0.9983 - val_loss: 0.9777 - val_accuracy: 0.4724 - val_auc: 0.4920\n",
      "Epoch 26/30\n",
      "3/3 [==============================] - 1s 487ms/step - loss: 0.0957 - accuracy: 0.9814 - auc: 0.9985 - val_loss: 1.0373 - val_accuracy: 0.4865 - val_auc: 0.4933\n",
      "Epoch 27/30\n",
      "3/3 [==============================] - 1s 493ms/step - loss: 0.0807 - accuracy: 0.9823 - auc: 0.9988 - val_loss: 1.1282 - val_accuracy: 0.4940 - val_auc: 0.4938\n",
      "Epoch 28/30\n",
      "3/3 [==============================] - 1s 483ms/step - loss: 0.0670 - accuracy: 0.9842 - auc: 0.9990 - val_loss: 1.2191 - val_accuracy: 0.4951 - val_auc: 0.4920\n",
      "Epoch 29/30\n",
      "3/3 [==============================] - 1s 487ms/step - loss: 0.0639 - accuracy: 0.9796 - auc: 0.9991 - val_loss: 1.2770 - val_accuracy: 0.4951 - val_auc: 0.4921\n",
      "Epoch 30/30\n",
      "3/3 [==============================] - 1s 485ms/step - loss: 0.0561 - accuracy: 0.9847 - auc: 0.9995 - val_loss: 1.3060 - val_accuracy: 0.4930 - val_auc: 0.4930\n"
     ]
    }
   ],
   "source": [
    "batch_size = 1000\n",
    "lstm_history_2 = model_lstm_2.fit(\n",
    "    X_train_lstm,\n",
    "    y_train_lstm,\n",
    "    epochs=30,\n",
    "    batch_size=batch_size,\n",
    "    verbose=1,\n",
    "    validation_split=0.3\n",
    ")"
   ]
  },
  {
   "cell_type": "code",
   "execution_count": null,
   "metadata": {
    "colab": {},
    "colab_type": "code",
    "id": "N28bEcl7sKc6"
   },
   "outputs": [],
   "source": [
    "predictions_lstm_2 = model_lstm_2.predict_classes(X_test_lstm)"
   ]
  },
  {
   "cell_type": "code",
   "execution_count": null,
   "metadata": {
    "colab": {
     "base_uri": "https://localhost:8080/",
     "height": 1000
    },
    "colab_type": "code",
    "id": "nC6fZZ4ysbdX",
    "outputId": "57267ce8-3da2-4b63-b460-f62e10994164"
   },
   "outputs": [
    {
     "data": {
      "text/html": [
       "<div>\n",
       "<style scoped>\n",
       "    .dataframe tbody tr th:only-of-type {\n",
       "        vertical-align: middle;\n",
       "    }\n",
       "\n",
       "    .dataframe tbody tr th {\n",
       "        vertical-align: top;\n",
       "    }\n",
       "\n",
       "    .dataframe thead th {\n",
       "        text-align: right;\n",
       "    }\n",
       "</style>\n",
       "<table border=\"1\" class=\"dataframe\">\n",
       "  <thead>\n",
       "    <tr style=\"text-align: right;\">\n",
       "      <th></th>\n",
       "      <th>Text</th>\n",
       "      <th>Actual</th>\n",
       "      <th>Predicted</th>\n",
       "    </tr>\n",
       "  </thead>\n",
       "  <tbody>\n",
       "    <tr>\n",
       "      <th>0</th>\n",
       "      <td>a  hindrance to operations   extracts from the...</td>\n",
       "      <td>0</td>\n",
       "      <td>1</td>\n",
       "    </tr>\n",
       "    <tr>\n",
       "      <th>1</th>\n",
       "      <td>scorecard the best lake scene leader  german s...</td>\n",
       "      <td>0</td>\n",
       "      <td>1</td>\n",
       "    </tr>\n",
       "    <tr>\n",
       "      <th>2</th>\n",
       "      <td>coventry caught on counter by flo united s riv...</td>\n",
       "      <td>0</td>\n",
       "      <td>0</td>\n",
       "    </tr>\n",
       "    <tr>\n",
       "      <th>3</th>\n",
       "      <td>pilgrim knows how to progress thatcher facing ...</td>\n",
       "      <td>1</td>\n",
       "      <td>1</td>\n",
       "    </tr>\n",
       "    <tr>\n",
       "      <th>4</th>\n",
       "      <td>hitches and horlocks beckham off but united su...</td>\n",
       "      <td>1</td>\n",
       "      <td>1</td>\n",
       "    </tr>\n",
       "    <tr>\n",
       "      <th>5</th>\n",
       "      <td>fifth round draw bbc unveils secret weapon in ...</td>\n",
       "      <td>1</td>\n",
       "      <td>0</td>\n",
       "    </tr>\n",
       "    <tr>\n",
       "      <th>6</th>\n",
       "      <td>man utd       south melbourne how north atlant...</td>\n",
       "      <td>1</td>\n",
       "      <td>0</td>\n",
       "    </tr>\n",
       "    <tr>\n",
       "      <th>7</th>\n",
       "      <td>newcastle seek new football supremo liverpool ...</td>\n",
       "      <td>1</td>\n",
       "      <td>0</td>\n",
       "    </tr>\n",
       "    <tr>\n",
       "      <th>8</th>\n",
       "      <td>bungling officials on the carpet and in the re...</td>\n",
       "      <td>1</td>\n",
       "      <td>1</td>\n",
       "    </tr>\n",
       "    <tr>\n",
       "      <th>9</th>\n",
       "      <td>pompey plump for pulis work ethic roma under f...</td>\n",
       "      <td>1</td>\n",
       "      <td>1</td>\n",
       "    </tr>\n",
       "    <tr>\n",
       "      <th>10</th>\n",
       "      <td>england s elite set for pay struggle robson pu...</td>\n",
       "      <td>0</td>\n",
       "      <td>1</td>\n",
       "    </tr>\n",
       "    <tr>\n",
       "      <th>11</th>\n",
       "      <td>no apologies from the captains for contrived f...</td>\n",
       "      <td>1</td>\n",
       "      <td>1</td>\n",
       "    </tr>\n",
       "    <tr>\n",
       "      <th>12</th>\n",
       "      <td>homes alone won t make us world beaters wemble...</td>\n",
       "      <td>0</td>\n",
       "      <td>1</td>\n",
       "    </tr>\n",
       "    <tr>\n",
       "      <th>13</th>\n",
       "      <td>never mind tyson  we is the tops at melting th...</td>\n",
       "      <td>0</td>\n",
       "      <td>1</td>\n",
       "    </tr>\n",
       "    <tr>\n",
       "      <th>14</th>\n",
       "      <td>lee puts the skids on pakistan jim swanton die...</td>\n",
       "      <td>0</td>\n",
       "      <td>1</td>\n",
       "    </tr>\n",
       "    <tr>\n",
       "      <th>15</th>\n",
       "      <td>dazzler is back and england are beaming rivald...</td>\n",
       "      <td>1</td>\n",
       "      <td>0</td>\n",
       "    </tr>\n",
       "    <tr>\n",
       "      <th>16</th>\n",
       "      <td>best go for georgie and sack good time charlto...</td>\n",
       "      <td>0</td>\n",
       "      <td>1</td>\n",
       "    </tr>\n",
       "    <tr>\n",
       "      <th>17</th>\n",
       "      <td>lancashire target tendulkar the tyke early sho...</td>\n",
       "      <td>0</td>\n",
       "      <td>0</td>\n",
       "    </tr>\n",
       "    <tr>\n",
       "      <th>18</th>\n",
       "      <td>carlton ratings rise at new midlands station u...</td>\n",
       "      <td>1</td>\n",
       "      <td>0</td>\n",
       "    </tr>\n",
       "    <tr>\n",
       "      <th>19</th>\n",
       "      <td>nationwide third division nationwide second di...</td>\n",
       "      <td>1</td>\n",
       "      <td>0</td>\n",
       "    </tr>\n",
       "    <tr>\n",
       "      <th>20</th>\n",
       "      <td>double delight for shearer even ferguson wants...</td>\n",
       "      <td>1</td>\n",
       "      <td>1</td>\n",
       "    </tr>\n",
       "    <tr>\n",
       "      <th>21</th>\n",
       "      <td>hospital case english women fall apart in thir...</td>\n",
       "      <td>0</td>\n",
       "      <td>1</td>\n",
       "    </tr>\n",
       "    <tr>\n",
       "      <th>22</th>\n",
       "      <td>scoreboard flower power clears path to summit ...</td>\n",
       "      <td>1</td>\n",
       "      <td>0</td>\n",
       "    </tr>\n",
       "    <tr>\n",
       "      <th>23</th>\n",
       "      <td>vialli will play only in  emergency  safety fi...</td>\n",
       "      <td>1</td>\n",
       "      <td>1</td>\n",
       "    </tr>\n",
       "    <tr>\n",
       "      <th>24</th>\n",
       "      <td>fletcher backs hick to the hilt south africa e...</td>\n",
       "      <td>1</td>\n",
       "      <td>1</td>\n",
       "    </tr>\n",
       "    <tr>\n",
       "      <th>25</th>\n",
       "      <td>wayward shoaib told suspension will stay maddy...</td>\n",
       "      <td>1</td>\n",
       "      <td>1</td>\n",
       "    </tr>\n",
       "    <tr>\n",
       "      <th>26</th>\n",
       "      <td>rangers bid for rebrov newcastle s glass final...</td>\n",
       "      <td>0</td>\n",
       "      <td>1</td>\n",
       "    </tr>\n",
       "    <tr>\n",
       "      <th>27</th>\n",
       "      <td>gunners and hammers to draw while foxes triump...</td>\n",
       "      <td>0</td>\n",
       "      <td>0</td>\n",
       "    </tr>\n",
       "    <tr>\n",
       "      <th>28</th>\n",
       "      <td>champagne breakfasts and batting collapses tha...</td>\n",
       "      <td>1</td>\n",
       "      <td>1</td>\n",
       "    </tr>\n",
       "    <tr>\n",
       "      <th>29</th>\n",
       "      <td>call to deduct points from clubs referees find...</td>\n",
       "      <td>1</td>\n",
       "      <td>1</td>\n",
       "    </tr>\n",
       "    <tr>\n",
       "      <th>30</th>\n",
       "      <td>a referee s eye view at upton park england fin...</td>\n",
       "      <td>0</td>\n",
       "      <td>0</td>\n",
       "    </tr>\n",
       "    <tr>\n",
       "      <th>31</th>\n",
       "      <td>closing ranks behind the thirtysomething toddl...</td>\n",
       "      <td>1</td>\n",
       "      <td>1</td>\n",
       "    </tr>\n",
       "    <tr>\n",
       "      <th>32</th>\n",
       "      <td>natwest trades its trophy for a menage a trois...</td>\n",
       "      <td>0</td>\n",
       "      <td>1</td>\n",
       "    </tr>\n",
       "    <tr>\n",
       "      <th>33</th>\n",
       "      <td>england to get salaries tied to results in ela...</td>\n",
       "      <td>1</td>\n",
       "      <td>0</td>\n",
       "    </tr>\n",
       "    <tr>\n",
       "      <th>34</th>\n",
       "      <td>batistuta and co are given a licence to thrill...</td>\n",
       "      <td>1</td>\n",
       "      <td>1</td>\n",
       "    </tr>\n",
       "    <tr>\n",
       "      <th>35</th>\n",
       "      <td>eager keane bounces czechs healy s debut doubl...</td>\n",
       "      <td>0</td>\n",
       "      <td>0</td>\n",
       "    </tr>\n",
       "    <tr>\n",
       "      <th>36</th>\n",
       "      <td>a human reminder to the monster pakistan set o...</td>\n",
       "      <td>0</td>\n",
       "      <td>1</td>\n",
       "    </tr>\n",
       "    <tr>\n",
       "      <th>37</th>\n",
       "      <td>brady in court for right to end life hindley  ...</td>\n",
       "      <td>1</td>\n",
       "      <td>0</td>\n",
       "    </tr>\n",
       "    <tr>\n",
       "      <th>38</th>\n",
       "      <td>fulham draw little comfort marseille       che...</td>\n",
       "      <td>1</td>\n",
       "      <td>1</td>\n",
       "    </tr>\n",
       "    <tr>\n",
       "      <th>39</th>\n",
       "      <td>the clockwatcher chelsea fall to french resist...</td>\n",
       "      <td>0</td>\n",
       "      <td>0</td>\n",
       "    </tr>\n",
       "  </tbody>\n",
       "</table>\n",
       "</div>"
      ],
      "text/plain": [
       "                                                 Text  Actual  Predicted\n",
       "0   a  hindrance to operations   extracts from the...       0          1\n",
       "1   scorecard the best lake scene leader  german s...       0          1\n",
       "2   coventry caught on counter by flo united s riv...       0          0\n",
       "3   pilgrim knows how to progress thatcher facing ...       1          1\n",
       "4   hitches and horlocks beckham off but united su...       1          1\n",
       "5   fifth round draw bbc unveils secret weapon in ...       1          0\n",
       "6   man utd       south melbourne how north atlant...       1          0\n",
       "7   newcastle seek new football supremo liverpool ...       1          0\n",
       "8   bungling officials on the carpet and in the re...       1          1\n",
       "9   pompey plump for pulis work ethic roma under f...       1          1\n",
       "10  england s elite set for pay struggle robson pu...       0          1\n",
       "11  no apologies from the captains for contrived f...       1          1\n",
       "12  homes alone won t make us world beaters wemble...       0          1\n",
       "13  never mind tyson  we is the tops at melting th...       0          1\n",
       "14  lee puts the skids on pakistan jim swanton die...       0          1\n",
       "15  dazzler is back and england are beaming rivald...       1          0\n",
       "16  best go for georgie and sack good time charlto...       0          1\n",
       "17  lancashire target tendulkar the tyke early sho...       0          0\n",
       "18  carlton ratings rise at new midlands station u...       1          0\n",
       "19  nationwide third division nationwide second di...       1          0\n",
       "20  double delight for shearer even ferguson wants...       1          1\n",
       "21  hospital case english women fall apart in thir...       0          1\n",
       "22  scoreboard flower power clears path to summit ...       1          0\n",
       "23  vialli will play only in  emergency  safety fi...       1          1\n",
       "24  fletcher backs hick to the hilt south africa e...       1          1\n",
       "25  wayward shoaib told suspension will stay maddy...       1          1\n",
       "26  rangers bid for rebrov newcastle s glass final...       0          1\n",
       "27  gunners and hammers to draw while foxes triump...       0          0\n",
       "28  champagne breakfasts and batting collapses tha...       1          1\n",
       "29  call to deduct points from clubs referees find...       1          1\n",
       "30  a referee s eye view at upton park england fin...       0          0\n",
       "31  closing ranks behind the thirtysomething toddl...       1          1\n",
       "32  natwest trades its trophy for a menage a trois...       0          1\n",
       "33  england to get salaries tied to results in ela...       1          0\n",
       "34  batistuta and co are given a licence to thrill...       1          1\n",
       "35  eager keane bounces czechs healy s debut doubl...       0          0\n",
       "36  a human reminder to the monster pakistan set o...       0          1\n",
       "37  brady in court for right to end life hindley  ...       1          0\n",
       "38  fulham draw little comfort marseille       che...       1          1\n",
       "39  the clockwatcher chelsea fall to french resist...       0          0"
      ]
     },
     "execution_count": 75,
     "metadata": {
      "tags": []
     },
     "output_type": "execute_result"
    }
   ],
   "source": [
    "sentiments_2 = pd.DataFrame({\"Text\": new_df[\"Total News\"][:1026], \"Actual\": y_test_lstm[:1026], \"Predicted\": predictions_lstm_2.ravel()})\n",
    "sentiments_2.head(40)"
   ]
  },
  {
   "cell_type": "code",
   "execution_count": null,
   "metadata": {
    "colab": {
     "base_uri": "https://localhost:8080/",
     "height": 281
    },
    "colab_type": "code",
    "id": "u2naf8_ar23H",
    "outputId": "37cae51e-52d9-4bc8-e9e4-705a7a338137"
   },
   "outputs": [
    {
     "data": {
      "image/png": "[encoded data removed]",
      "text/plain": [
       "<Figure size 432x288 with 1 Axes>"
      ]
     },
     "metadata": {
      "needs_background": "light",
      "tags": []
     },
     "output_type": "display_data"
    }
   ],
   "source": [
    "plt.plot(lstm_history_2.history[\"loss\"])\n",
    "plt.plot(lstm_history_2.history[\"val_loss\"])\n",
    "plt.title(\"Loss_function\")\n",
    "plt.legend([\"Train\", \"Test\"])\n",
    "plt.show()"
   ]
  },
  {
   "cell_type": "code",
   "execution_count": null,
   "metadata": {
    "colab": {
     "base_uri": "https://localhost:8080/",
     "height": 281
    },
    "colab_type": "code",
    "id": "jh4iiANIxx96",
    "outputId": "77920147-cda6-4a63-b2d5-9d5a21c4b38b"
   },
   "outputs": [
    {
     "data": {
      "image/png": "[encoded data removed]",
      "text/plain": [
       "<Figure size 432x288 with 1 Axes>"
      ]
     },
     "metadata": {
      "needs_background": "light",
      "tags": []
     },
     "output_type": "display_data"
    }
   ],
   "source": [
    "plt.plot(lstm_history_2.history[\"auc\"])\n",
    "plt.plot(lstm_history_2.history[\"val_auc\"])\n",
    "plt.title(\"AUC\")\n",
    "plt.legend([\"Train\", \"Test\"])\n",
    "plt.show()"
   ]
  },
  {
   "cell_type": "code",
   "execution_count": null,
   "metadata": {
    "colab": {
     "base_uri": "https://localhost:8080/",
     "height": 281
    },
    "colab_type": "code",
    "id": "_gsxlXSRr-1T",
    "outputId": "7d4dd0c7-e2ae-412d-93cc-0e850894e588"
   },
   "outputs": [
    {
     "data": {
      "image/png": "[encoded data removed]",
      "text/plain": [
       "<Figure size 432x288 with 1 Axes>"
      ]
     },
     "metadata": {
      "needs_background": "light",
      "tags": []
     },
     "output_type": "display_data"
    }
   ],
   "source": [
    "plt.plot(lstm_history_2.history[\"accuracy\"])\n",
    "plt.plot(lstm_history_2.history[\"val_accuracy\"])\n",
    "plt.title(\"Accuracy\")\n",
    "plt.legend([\"Train\", \"Test\"])\n",
    "plt.show()"
   ]
  },
  {
   "cell_type": "code",
   "execution_count": null,
   "metadata": {
    "colab": {
     "base_uri": "https://localhost:8080/",
     "height": 170
    },
    "colab_type": "code",
    "id": "XvuCSPvNsvBe",
    "outputId": "1d072031-3cb5-4cf2-a62a-ce560a01d5ab"
   },
   "outputs": [
    {
     "name": "stdout",
     "output_type": "stream",
     "text": [
      "              precision    recall  f1-score   support\n",
      "\n",
      "           0       0.48      0.36      0.41       497\n",
      "           1       0.51      0.63      0.57       529\n",
      "\n",
      "    accuracy                           0.50      1026\n",
      "   macro avg       0.50      0.50      0.49      1026\n",
      "weighted avg       0.50      0.50      0.49      1026\n",
      "\n"
     ]
    }
   ],
   "source": [
    "report_2=classification_report(sentiments_2['Actual'],predictions_lstm_2)\n",
    "print(report_2)"
   ]
  }
 ],
 "metadata": {
  "colab": {
   "collapsed_sections": [
    "rDeNGzF0DM91"
   ],
   "name": "Project2_WIP.ipynb",
   "provenance": [],
   "toc_visible": true
  },
  "kernelspec": {
   "display_name": "Python 3",
   "language": "python",
   "name": "python3"
  },
  "language_info": {
   "codemirror_mode": {
    "name": "ipython",
    "version": 3
   },
   "file_extension": ".py",
   "mimetype": "text/x-python",
   "name": "python",
   "nbconvert_exporter": "python",
   "pygments_lexer": "ipython3",
   "version": "3.7.6"
  }
 },
 "nbformat": 4,
 "nbformat_minor": 4
}
